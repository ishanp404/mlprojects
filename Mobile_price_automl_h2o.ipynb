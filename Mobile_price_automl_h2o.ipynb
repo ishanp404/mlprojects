{
  "cells": [
    {
      "cell_type": "markdown",
      "metadata": {
        "id": "view-in-github",
        "colab_type": "text"
      },
      "source": [
        "<a href=\"https://colab.research.google.com/github/ishanp404/mlprojects/blob/main/Mobile_price_automl_h2o.ipynb\" target=\"_parent\"><img src=\"https://colab.research.google.com/assets/colab-badge.svg\" alt=\"Open In Colab\"/></a>"
      ]
    },
    {
      "cell_type": "code",
      "execution_count": 27,
      "id": "4be5b7fe",
      "metadata": {
        "id": "4be5b7fe"
      },
      "outputs": [],
      "source": [
        "import pandas as pd\n",
        "from sklearn.model_selection import train_test_split\n",
        "import h2o\n",
        "from h2o.transforms.preprocessing import H2OScaler"
      ]
    },
    {
      "cell_type": "code",
      "source": [
        "h2o.init()"
      ],
      "metadata": {
        "colab": {
          "base_uri": "https://localhost:8080/",
          "height": 544
        },
        "id": "PgE8mzxoiLS3",
        "outputId": "fae7f80d-b03f-4cfc-910b-6e0a338d0b8d"
      },
      "id": "PgE8mzxoiLS3",
      "execution_count": 16,
      "outputs": [
        {
          "output_type": "stream",
          "name": "stdout",
          "text": [
            "Checking whether there is an H2O instance running at http://localhost:54321..... not found.\n",
            "Attempting to start a local H2O server...\n",
            "  Java Version: openjdk version \"11.0.20.1\" 2023-08-24; OpenJDK Runtime Environment (build 11.0.20.1+1-post-Ubuntu-0ubuntu122.04); OpenJDK 64-Bit Server VM (build 11.0.20.1+1-post-Ubuntu-0ubuntu122.04, mixed mode, sharing)\n",
            "  Starting server from /usr/local/lib/python3.10/dist-packages/h2o/backend/bin/h2o.jar\n",
            "  Ice root: /tmp/tmp5k88u54n\n",
            "  JVM stdout: /tmp/tmp5k88u54n/h2o_unknownUser_started_from_python.out\n",
            "  JVM stderr: /tmp/tmp5k88u54n/h2o_unknownUser_started_from_python.err\n",
            "  Server is running at http://127.0.0.1:54321\n",
            "Connecting to H2O server at http://127.0.0.1:54321 ... successful.\n"
          ]
        },
        {
          "output_type": "display_data",
          "data": {
            "text/plain": [
              "--------------------------  -----------------------------------------------------------------------------------------\n",
              "H2O_cluster_uptime:         02 secs\n",
              "H2O_cluster_timezone:       Etc/UTC\n",
              "H2O_data_parsing_timezone:  UTC\n",
              "H2O_cluster_version:        3.42.0.3\n",
              "H2O_cluster_version_age:    1 month and 2 days\n",
              "H2O_cluster_name:           H2O_from_python_unknownUser_thevx8\n",
              "H2O_cluster_total_nodes:    1\n",
              "H2O_cluster_free_memory:    3.170 Gb\n",
              "H2O_cluster_total_cores:    2\n",
              "H2O_cluster_allowed_cores:  2\n",
              "H2O_cluster_status:         locked, healthy\n",
              "H2O_connection_url:         http://127.0.0.1:54321\n",
              "H2O_connection_proxy:       {\"http\": null, \"https\": null, \"colab_language_server\": \"/usr/colab/bin/language_service\"}\n",
              "H2O_internal_security:      False\n",
              "Python_version:             3.10.12 final\n",
              "--------------------------  -----------------------------------------------------------------------------------------"
            ],
            "text/html": [
              "\n",
              "<style>\n",
              "\n",
              "#h2o-table-1.h2o-container {\n",
              "  overflow-x: auto;\n",
              "}\n",
              "#h2o-table-1 .h2o-table {\n",
              "  /* width: 100%; */\n",
              "  margin-top: 1em;\n",
              "  margin-bottom: 1em;\n",
              "}\n",
              "#h2o-table-1 .h2o-table caption {\n",
              "  white-space: nowrap;\n",
              "  caption-side: top;\n",
              "  text-align: left;\n",
              "  /* margin-left: 1em; */\n",
              "  margin: 0;\n",
              "  font-size: larger;\n",
              "}\n",
              "#h2o-table-1 .h2o-table thead {\n",
              "  white-space: nowrap; \n",
              "  position: sticky;\n",
              "  top: 0;\n",
              "  box-shadow: 0 -1px inset;\n",
              "}\n",
              "#h2o-table-1 .h2o-table tbody {\n",
              "  overflow: auto;\n",
              "}\n",
              "#h2o-table-1 .h2o-table th,\n",
              "#h2o-table-1 .h2o-table td {\n",
              "  text-align: right;\n",
              "  /* border: 1px solid; */\n",
              "}\n",
              "#h2o-table-1 .h2o-table tr:nth-child(even) {\n",
              "  /* background: #F5F5F5 */\n",
              "}\n",
              "\n",
              "</style>      \n",
              "<div id=\"h2o-table-1\" class=\"h2o-container\">\n",
              "  <table class=\"h2o-table\">\n",
              "    <caption></caption>\n",
              "    <thead></thead>\n",
              "    <tbody><tr><td>H2O_cluster_uptime:</td>\n",
              "<td>02 secs</td></tr>\n",
              "<tr><td>H2O_cluster_timezone:</td>\n",
              "<td>Etc/UTC</td></tr>\n",
              "<tr><td>H2O_data_parsing_timezone:</td>\n",
              "<td>UTC</td></tr>\n",
              "<tr><td>H2O_cluster_version:</td>\n",
              "<td>3.42.0.3</td></tr>\n",
              "<tr><td>H2O_cluster_version_age:</td>\n",
              "<td>1 month and 2 days</td></tr>\n",
              "<tr><td>H2O_cluster_name:</td>\n",
              "<td>H2O_from_python_unknownUser_thevx8</td></tr>\n",
              "<tr><td>H2O_cluster_total_nodes:</td>\n",
              "<td>1</td></tr>\n",
              "<tr><td>H2O_cluster_free_memory:</td>\n",
              "<td>3.170 Gb</td></tr>\n",
              "<tr><td>H2O_cluster_total_cores:</td>\n",
              "<td>2</td></tr>\n",
              "<tr><td>H2O_cluster_allowed_cores:</td>\n",
              "<td>2</td></tr>\n",
              "<tr><td>H2O_cluster_status:</td>\n",
              "<td>locked, healthy</td></tr>\n",
              "<tr><td>H2O_connection_url:</td>\n",
              "<td>http://127.0.0.1:54321</td></tr>\n",
              "<tr><td>H2O_connection_proxy:</td>\n",
              "<td>{\"http\": null, \"https\": null, \"colab_language_server\": \"/usr/colab/bin/language_service\"}</td></tr>\n",
              "<tr><td>H2O_internal_security:</td>\n",
              "<td>False</td></tr>\n",
              "<tr><td>Python_version:</td>\n",
              "<td>3.10.12 final</td></tr></tbody>\n",
              "  </table>\n",
              "</div>\n"
            ]
          },
          "metadata": {}
        }
      ]
    },
    {
      "cell_type": "code",
      "execution_count": 21,
      "id": "ed45c598",
      "metadata": {
        "colab": {
          "base_uri": "https://localhost:8080/"
        },
        "id": "ed45c598",
        "outputId": "cc5a2e35-1a43-4a72-bdc2-deb50494bc09"
      },
      "outputs": [
        {
          "output_type": "stream",
          "name": "stdout",
          "text": [
            "Parse progress: |████████████████████████████████████████████████████████████████| (done) 100%\n"
          ]
        }
      ],
      "source": [
        "df = h2o.import_file(\"/content/mobile[1].csv\")"
      ]
    },
    {
      "cell_type": "code",
      "execution_count": 22,
      "id": "6c721375",
      "metadata": {
        "colab": {
          "base_uri": "https://localhost:8080/",
          "height": 409
        },
        "id": "6c721375",
        "outputId": "6ca86109-3435-405a-c98f-929b0ff405ab"
      },
      "outputs": [
        {
          "output_type": "execute_result",
          "data": {
            "text/plain": [
              "  battery_power    blue    clock_speed    dual_sim    fc    four_g    int_memory    m_dep    mobile_wt    n_cores    pc    px_height    px_width    ram    sc_h    sc_w    talk_time    three_g    touch_screen    wifi    price_range\n",
              "---------------  ------  -------------  ----------  ----  --------  ------------  -------  -----------  ---------  ----  -----------  ----------  -----  ------  ------  -----------  ---------  --------------  ------  -------------\n",
              "            842       0            2.2           0     1         0             7      0.6          188          2     2           20         756   2549       9       7           19          0               0       1              1\n",
              "           1021       1            0.5           1     0         1            53      0.7          136          3     6          905        1988   2631      17       3            7          1               1       0              2\n",
              "            563       1            0.5           1     2         1            41      0.9          145          5     6         1263        1716   2603      11       2            9          1               1       0              2\n",
              "            615       1            2.5           0     0         0            10      0.8          131          6     9         1216        1786   2769      16       8           11          1               0       0              2\n",
              "           1821       1            1.2           0    13         1            44      0.6          141          2    14         1208        1212   1411       8       2           15          1               1       0              1\n",
              "           1859       0            0.5           1     3         0            22      0.7          164          1     7         1004        1654   1067      17       1           10          1               0       0              1\n",
              "           1821       0            1.7           0     4         1            10      0.8          139          8    10          381        1018   3220      13       8           18          1               0       1              3\n",
              "           1954       0            0.5           1     0         0            24      0.8          187          4     0          512        1149    700      16       3            5          1               1       1              0\n",
              "           1445       1            0.5           0     0         0            53      0.7          174          7    14          386         836   1099      17       1           20          1               0       0              0\n",
              "            509       1            0.6           1     2         1             9      0.1           93          5    15         1137        1224    513      19      10           12          1               0       0              0\n",
              "[2000 rows x 21 columns]\n"
            ],
            "text/html": [
              "<table class='dataframe'>\n",
              "<thead>\n",
              "<tr><th style=\"text-align: right;\">  battery_power</th><th style=\"text-align: right;\">  blue</th><th style=\"text-align: right;\">  clock_speed</th><th style=\"text-align: right;\">  dual_sim</th><th style=\"text-align: right;\">  fc</th><th style=\"text-align: right;\">  four_g</th><th style=\"text-align: right;\">  int_memory</th><th style=\"text-align: right;\">  m_dep</th><th style=\"text-align: right;\">  mobile_wt</th><th style=\"text-align: right;\">  n_cores</th><th style=\"text-align: right;\">  pc</th><th style=\"text-align: right;\">  px_height</th><th style=\"text-align: right;\">  px_width</th><th style=\"text-align: right;\">  ram</th><th style=\"text-align: right;\">  sc_h</th><th style=\"text-align: right;\">  sc_w</th><th style=\"text-align: right;\">  talk_time</th><th style=\"text-align: right;\">  three_g</th><th style=\"text-align: right;\">  touch_screen</th><th style=\"text-align: right;\">  wifi</th><th style=\"text-align: right;\">  price_range</th></tr>\n",
              "</thead>\n",
              "<tbody>\n",
              "<tr><td style=\"text-align: right;\">            842</td><td style=\"text-align: right;\">     0</td><td style=\"text-align: right;\">          2.2</td><td style=\"text-align: right;\">         0</td><td style=\"text-align: right;\">   1</td><td style=\"text-align: right;\">       0</td><td style=\"text-align: right;\">           7</td><td style=\"text-align: right;\">    0.6</td><td style=\"text-align: right;\">        188</td><td style=\"text-align: right;\">        2</td><td style=\"text-align: right;\">   2</td><td style=\"text-align: right;\">         20</td><td style=\"text-align: right;\">       756</td><td style=\"text-align: right;\"> 2549</td><td style=\"text-align: right;\">     9</td><td style=\"text-align: right;\">     7</td><td style=\"text-align: right;\">         19</td><td style=\"text-align: right;\">        0</td><td style=\"text-align: right;\">             0</td><td style=\"text-align: right;\">     1</td><td style=\"text-align: right;\">            1</td></tr>\n",
              "<tr><td style=\"text-align: right;\">           1021</td><td style=\"text-align: right;\">     1</td><td style=\"text-align: right;\">          0.5</td><td style=\"text-align: right;\">         1</td><td style=\"text-align: right;\">   0</td><td style=\"text-align: right;\">       1</td><td style=\"text-align: right;\">          53</td><td style=\"text-align: right;\">    0.7</td><td style=\"text-align: right;\">        136</td><td style=\"text-align: right;\">        3</td><td style=\"text-align: right;\">   6</td><td style=\"text-align: right;\">        905</td><td style=\"text-align: right;\">      1988</td><td style=\"text-align: right;\"> 2631</td><td style=\"text-align: right;\">    17</td><td style=\"text-align: right;\">     3</td><td style=\"text-align: right;\">          7</td><td style=\"text-align: right;\">        1</td><td style=\"text-align: right;\">             1</td><td style=\"text-align: right;\">     0</td><td style=\"text-align: right;\">            2</td></tr>\n",
              "<tr><td style=\"text-align: right;\">            563</td><td style=\"text-align: right;\">     1</td><td style=\"text-align: right;\">          0.5</td><td style=\"text-align: right;\">         1</td><td style=\"text-align: right;\">   2</td><td style=\"text-align: right;\">       1</td><td style=\"text-align: right;\">          41</td><td style=\"text-align: right;\">    0.9</td><td style=\"text-align: right;\">        145</td><td style=\"text-align: right;\">        5</td><td style=\"text-align: right;\">   6</td><td style=\"text-align: right;\">       1263</td><td style=\"text-align: right;\">      1716</td><td style=\"text-align: right;\"> 2603</td><td style=\"text-align: right;\">    11</td><td style=\"text-align: right;\">     2</td><td style=\"text-align: right;\">          9</td><td style=\"text-align: right;\">        1</td><td style=\"text-align: right;\">             1</td><td style=\"text-align: right;\">     0</td><td style=\"text-align: right;\">            2</td></tr>\n",
              "<tr><td style=\"text-align: right;\">            615</td><td style=\"text-align: right;\">     1</td><td style=\"text-align: right;\">          2.5</td><td style=\"text-align: right;\">         0</td><td style=\"text-align: right;\">   0</td><td style=\"text-align: right;\">       0</td><td style=\"text-align: right;\">          10</td><td style=\"text-align: right;\">    0.8</td><td style=\"text-align: right;\">        131</td><td style=\"text-align: right;\">        6</td><td style=\"text-align: right;\">   9</td><td style=\"text-align: right;\">       1216</td><td style=\"text-align: right;\">      1786</td><td style=\"text-align: right;\"> 2769</td><td style=\"text-align: right;\">    16</td><td style=\"text-align: right;\">     8</td><td style=\"text-align: right;\">         11</td><td style=\"text-align: right;\">        1</td><td style=\"text-align: right;\">             0</td><td style=\"text-align: right;\">     0</td><td style=\"text-align: right;\">            2</td></tr>\n",
              "<tr><td style=\"text-align: right;\">           1821</td><td style=\"text-align: right;\">     1</td><td style=\"text-align: right;\">          1.2</td><td style=\"text-align: right;\">         0</td><td style=\"text-align: right;\">  13</td><td style=\"text-align: right;\">       1</td><td style=\"text-align: right;\">          44</td><td style=\"text-align: right;\">    0.6</td><td style=\"text-align: right;\">        141</td><td style=\"text-align: right;\">        2</td><td style=\"text-align: right;\">  14</td><td style=\"text-align: right;\">       1208</td><td style=\"text-align: right;\">      1212</td><td style=\"text-align: right;\"> 1411</td><td style=\"text-align: right;\">     8</td><td style=\"text-align: right;\">     2</td><td style=\"text-align: right;\">         15</td><td style=\"text-align: right;\">        1</td><td style=\"text-align: right;\">             1</td><td style=\"text-align: right;\">     0</td><td style=\"text-align: right;\">            1</td></tr>\n",
              "<tr><td style=\"text-align: right;\">           1859</td><td style=\"text-align: right;\">     0</td><td style=\"text-align: right;\">          0.5</td><td style=\"text-align: right;\">         1</td><td style=\"text-align: right;\">   3</td><td style=\"text-align: right;\">       0</td><td style=\"text-align: right;\">          22</td><td style=\"text-align: right;\">    0.7</td><td style=\"text-align: right;\">        164</td><td style=\"text-align: right;\">        1</td><td style=\"text-align: right;\">   7</td><td style=\"text-align: right;\">       1004</td><td style=\"text-align: right;\">      1654</td><td style=\"text-align: right;\"> 1067</td><td style=\"text-align: right;\">    17</td><td style=\"text-align: right;\">     1</td><td style=\"text-align: right;\">         10</td><td style=\"text-align: right;\">        1</td><td style=\"text-align: right;\">             0</td><td style=\"text-align: right;\">     0</td><td style=\"text-align: right;\">            1</td></tr>\n",
              "<tr><td style=\"text-align: right;\">           1821</td><td style=\"text-align: right;\">     0</td><td style=\"text-align: right;\">          1.7</td><td style=\"text-align: right;\">         0</td><td style=\"text-align: right;\">   4</td><td style=\"text-align: right;\">       1</td><td style=\"text-align: right;\">          10</td><td style=\"text-align: right;\">    0.8</td><td style=\"text-align: right;\">        139</td><td style=\"text-align: right;\">        8</td><td style=\"text-align: right;\">  10</td><td style=\"text-align: right;\">        381</td><td style=\"text-align: right;\">      1018</td><td style=\"text-align: right;\"> 3220</td><td style=\"text-align: right;\">    13</td><td style=\"text-align: right;\">     8</td><td style=\"text-align: right;\">         18</td><td style=\"text-align: right;\">        1</td><td style=\"text-align: right;\">             0</td><td style=\"text-align: right;\">     1</td><td style=\"text-align: right;\">            3</td></tr>\n",
              "<tr><td style=\"text-align: right;\">           1954</td><td style=\"text-align: right;\">     0</td><td style=\"text-align: right;\">          0.5</td><td style=\"text-align: right;\">         1</td><td style=\"text-align: right;\">   0</td><td style=\"text-align: right;\">       0</td><td style=\"text-align: right;\">          24</td><td style=\"text-align: right;\">    0.8</td><td style=\"text-align: right;\">        187</td><td style=\"text-align: right;\">        4</td><td style=\"text-align: right;\">   0</td><td style=\"text-align: right;\">        512</td><td style=\"text-align: right;\">      1149</td><td style=\"text-align: right;\">  700</td><td style=\"text-align: right;\">    16</td><td style=\"text-align: right;\">     3</td><td style=\"text-align: right;\">          5</td><td style=\"text-align: right;\">        1</td><td style=\"text-align: right;\">             1</td><td style=\"text-align: right;\">     1</td><td style=\"text-align: right;\">            0</td></tr>\n",
              "<tr><td style=\"text-align: right;\">           1445</td><td style=\"text-align: right;\">     1</td><td style=\"text-align: right;\">          0.5</td><td style=\"text-align: right;\">         0</td><td style=\"text-align: right;\">   0</td><td style=\"text-align: right;\">       0</td><td style=\"text-align: right;\">          53</td><td style=\"text-align: right;\">    0.7</td><td style=\"text-align: right;\">        174</td><td style=\"text-align: right;\">        7</td><td style=\"text-align: right;\">  14</td><td style=\"text-align: right;\">        386</td><td style=\"text-align: right;\">       836</td><td style=\"text-align: right;\"> 1099</td><td style=\"text-align: right;\">    17</td><td style=\"text-align: right;\">     1</td><td style=\"text-align: right;\">         20</td><td style=\"text-align: right;\">        1</td><td style=\"text-align: right;\">             0</td><td style=\"text-align: right;\">     0</td><td style=\"text-align: right;\">            0</td></tr>\n",
              "<tr><td style=\"text-align: right;\">            509</td><td style=\"text-align: right;\">     1</td><td style=\"text-align: right;\">          0.6</td><td style=\"text-align: right;\">         1</td><td style=\"text-align: right;\">   2</td><td style=\"text-align: right;\">       1</td><td style=\"text-align: right;\">           9</td><td style=\"text-align: right;\">    0.1</td><td style=\"text-align: right;\">         93</td><td style=\"text-align: right;\">        5</td><td style=\"text-align: right;\">  15</td><td style=\"text-align: right;\">       1137</td><td style=\"text-align: right;\">      1224</td><td style=\"text-align: right;\">  513</td><td style=\"text-align: right;\">    19</td><td style=\"text-align: right;\">    10</td><td style=\"text-align: right;\">         12</td><td style=\"text-align: right;\">        1</td><td style=\"text-align: right;\">             0</td><td style=\"text-align: right;\">     0</td><td style=\"text-align: right;\">            0</td></tr>\n",
              "</tbody>\n",
              "</table><pre style='font-size: smaller; margin-bottom: 1em;'>[2000 rows x 21 columns]</pre>"
            ]
          },
          "metadata": {},
          "execution_count": 22
        }
      ],
      "source": [
        "df"
      ]
    },
    {
      "cell_type": "code",
      "execution_count": 24,
      "id": "c1c140dc",
      "metadata": {
        "id": "c1c140dc"
      },
      "outputs": [],
      "source": [
        "col = ['battery_power', 'clock_speed', 'fc', 'int_memory', 'm_dep', 'mobile_wt', 'n_cores', 'pc', 'px_height',\n",
        "       'px_width', 'ram', 'sc_h', 'sc_w', 'talk_time']"
      ]
    },
    {
      "cell_type": "code",
      "execution_count": 28,
      "id": "5d684cc3",
      "metadata": {
        "id": "5d684cc3"
      },
      "outputs": [],
      "source": [
        "\n",
        "# Select the columns to scale (e.g., columns 1 to 3)\n",
        "columns_to_scale = [\"column1\", \"column2\", \"column3\"]\n",
        "\n",
        "# Create an H2OScaler object\n",
        "scaler = H2OScaler(center=True, scale=True)\n",
        "\n",
        "# Fit the scaler on the selected columns\n",
        "scaler.fit(df[col])\n",
        "\n",
        "# Transform the selected columns using the fitted scaler\n",
        "scaled_data = scaler.transform(df[col])\n",
        "\n",
        "# Replace the original columns with the scaled columns in the H2OFrame\n",
        "for co in col:\n",
        "    df[co] = scaled_data[co]\n"
      ]
    },
    {
      "cell_type": "code",
      "execution_count": 29,
      "id": "1cd32265",
      "metadata": {
        "colab": {
          "base_uri": "https://localhost:8080/",
          "height": 409
        },
        "id": "1cd32265",
        "outputId": "5785ea9d-3f2a-4586-8d1e-0f8fb8958f89"
      },
      "outputs": [
        {
          "output_type": "execute_result",
          "data": {
            "text/plain": [
              "  battery_power    blue    clock_speed    dual_sim         fc    four_g    int_memory       m_dep    mobile_wt    n_cores         pc    px_height    px_width                ram       sc_h       sc_w    talk_time    three_g    touch_screen    wifi    price_range\n",
              "---------------  ------  -------------  ----------  ---------  --------  ------------  ----------  -----------  ---------  ---------  -----------  ----------  -----------------  ---------  ---------  -----------  ---------  --------------  ------  -------------\n",
              "      -174237         0       0.553047           0  -14.368           0      -454.487   0.0283368    1690.37     -5.76649  -48.0081     -277411     -214162     460780            -13.9311     5.37144   43.6515             0               0       1              1\n",
              "       -95581.6       1      -0.83416            1  -18.7095          1       380.216   0.0571784    -150.413    -3.47866  -23.7509      115335      318308     549728             19.7749   -12.0542   -21.9159             1               1       0              2\n",
              "      -296835         1      -0.83416            1  -10.0266          1       162.468   0.114861      168.184     1.09702  -23.7509      274209      200750     519356             -5.5046   -16.4105   -10.988              1               1       0              2\n",
              "      -273985         1       0.797848           0  -18.7095          0      -400.05    0.0860199    -327.411     3.38485   -5.55794     253351      231004     699421             15.5616     9.72784   -0.0601035          1               0       0              2\n",
              "       255953         1      -0.262957           0   37.7293          1       216.905   0.0283368      26.5851   -5.76649   24.7636      249801      -17078.6  -773645            -18.1443   -16.4105    21.7957             1               1       0              1\n",
              "       272651         0      -0.83416            1   -5.68512         0      -182.301   0.0571784     840.777    -8.05433  -17.6866      159269      173954         -1.14679e+06   19.7749   -20.7669    -5.52406            1               0       0              1\n",
              "       255953         0       0.145045           0   -1.34368         1      -400.05    0.0860199     -44.2142    7.96053    0.50637    -117206     -100925          1.18864e+06    2.92189    9.72784   38.1876             1               0       1              3\n",
              "       314396         0      -0.83416            1  -18.7095          0      -146.009   0.0860199    1654.97     -1.19082  -60.1368      -59070.8    -44307.1       -1.54489e+06   15.5616   -12.0542   -32.8438             1               1       1              0\n",
              "        90731.7       1      -0.83416            0  -18.7095          0       380.216   0.0571784    1194.77      5.67269   24.7636     -114987     -179586         -1.11208e+06   19.7749   -20.7669    49.1155             1               0       0              0\n",
              "      -320564         1      -0.75256            1  -10.0266          1      -418.195  -0.115871    -1672.6       1.09702   30.8279      218292      -11892.2       -1.74773e+06   28.2014    18.4406     5.40385            1               0       0              0\n",
              "[2000 rows x 21 columns]\n"
            ],
            "text/html": [
              "<table class='dataframe'>\n",
              "<thead>\n",
              "<tr><th style=\"text-align: right;\">  battery_power</th><th style=\"text-align: right;\">  blue</th><th style=\"text-align: right;\">  clock_speed</th><th style=\"text-align: right;\">  dual_sim</th><th style=\"text-align: right;\">       fc</th><th style=\"text-align: right;\">  four_g</th><th style=\"text-align: right;\">  int_memory</th><th style=\"text-align: right;\">     m_dep</th><th style=\"text-align: right;\">  mobile_wt</th><th style=\"text-align: right;\">  n_cores</th><th style=\"text-align: right;\">       pc</th><th style=\"text-align: right;\">  px_height</th><th style=\"text-align: right;\">  px_width</th><th style=\"text-align: right;\">              ram</th><th style=\"text-align: right;\">     sc_h</th><th style=\"text-align: right;\">     sc_w</th><th style=\"text-align: right;\">  talk_time</th><th style=\"text-align: right;\">  three_g</th><th style=\"text-align: right;\">  touch_screen</th><th style=\"text-align: right;\">  wifi</th><th style=\"text-align: right;\">  price_range</th></tr>\n",
              "</thead>\n",
              "<tbody>\n",
              "<tr><td style=\"text-align: right;\">      -174237  </td><td style=\"text-align: right;\">     0</td><td style=\"text-align: right;\">     0.553047</td><td style=\"text-align: right;\">         0</td><td style=\"text-align: right;\">-14.368  </td><td style=\"text-align: right;\">       0</td><td style=\"text-align: right;\">    -454.487</td><td style=\"text-align: right;\"> 0.0283368</td><td style=\"text-align: right;\">  1690.37  </td><td style=\"text-align: right;\"> -5.76649</td><td style=\"text-align: right;\">-48.0081 </td><td style=\"text-align: right;\">  -277411  </td><td style=\"text-align: right;\"> -214162  </td><td style=\"text-align: right;\"> 460780          </td><td style=\"text-align: right;\">-13.9311 </td><td style=\"text-align: right;\">  5.37144</td><td style=\"text-align: right;\"> 43.6515   </td><td style=\"text-align: right;\">        0</td><td style=\"text-align: right;\">             0</td><td style=\"text-align: right;\">     1</td><td style=\"text-align: right;\">            1</td></tr>\n",
              "<tr><td style=\"text-align: right;\">       -95581.6</td><td style=\"text-align: right;\">     1</td><td style=\"text-align: right;\">    -0.83416 </td><td style=\"text-align: right;\">         1</td><td style=\"text-align: right;\">-18.7095 </td><td style=\"text-align: right;\">       1</td><td style=\"text-align: right;\">     380.216</td><td style=\"text-align: right;\"> 0.0571784</td><td style=\"text-align: right;\">  -150.413 </td><td style=\"text-align: right;\"> -3.47866</td><td style=\"text-align: right;\">-23.7509 </td><td style=\"text-align: right;\">   115335  </td><td style=\"text-align: right;\">  318308  </td><td style=\"text-align: right;\"> 549728          </td><td style=\"text-align: right;\"> 19.7749 </td><td style=\"text-align: right;\">-12.0542 </td><td style=\"text-align: right;\">-21.9159   </td><td style=\"text-align: right;\">        1</td><td style=\"text-align: right;\">             1</td><td style=\"text-align: right;\">     0</td><td style=\"text-align: right;\">            2</td></tr>\n",
              "<tr><td style=\"text-align: right;\">      -296835  </td><td style=\"text-align: right;\">     1</td><td style=\"text-align: right;\">    -0.83416 </td><td style=\"text-align: right;\">         1</td><td style=\"text-align: right;\">-10.0266 </td><td style=\"text-align: right;\">       1</td><td style=\"text-align: right;\">     162.468</td><td style=\"text-align: right;\"> 0.114861 </td><td style=\"text-align: right;\">   168.184 </td><td style=\"text-align: right;\">  1.09702</td><td style=\"text-align: right;\">-23.7509 </td><td style=\"text-align: right;\">   274209  </td><td style=\"text-align: right;\">  200750  </td><td style=\"text-align: right;\"> 519356          </td><td style=\"text-align: right;\"> -5.5046 </td><td style=\"text-align: right;\">-16.4105 </td><td style=\"text-align: right;\">-10.988    </td><td style=\"text-align: right;\">        1</td><td style=\"text-align: right;\">             1</td><td style=\"text-align: right;\">     0</td><td style=\"text-align: right;\">            2</td></tr>\n",
              "<tr><td style=\"text-align: right;\">      -273985  </td><td style=\"text-align: right;\">     1</td><td style=\"text-align: right;\">     0.797848</td><td style=\"text-align: right;\">         0</td><td style=\"text-align: right;\">-18.7095 </td><td style=\"text-align: right;\">       0</td><td style=\"text-align: right;\">    -400.05 </td><td style=\"text-align: right;\"> 0.0860199</td><td style=\"text-align: right;\">  -327.411 </td><td style=\"text-align: right;\">  3.38485</td><td style=\"text-align: right;\"> -5.55794</td><td style=\"text-align: right;\">   253351  </td><td style=\"text-align: right;\">  231004  </td><td style=\"text-align: right;\"> 699421          </td><td style=\"text-align: right;\"> 15.5616 </td><td style=\"text-align: right;\">  9.72784</td><td style=\"text-align: right;\"> -0.0601035</td><td style=\"text-align: right;\">        1</td><td style=\"text-align: right;\">             0</td><td style=\"text-align: right;\">     0</td><td style=\"text-align: right;\">            2</td></tr>\n",
              "<tr><td style=\"text-align: right;\">       255953  </td><td style=\"text-align: right;\">     1</td><td style=\"text-align: right;\">    -0.262957</td><td style=\"text-align: right;\">         0</td><td style=\"text-align: right;\"> 37.7293 </td><td style=\"text-align: right;\">       1</td><td style=\"text-align: right;\">     216.905</td><td style=\"text-align: right;\"> 0.0283368</td><td style=\"text-align: right;\">    26.5851</td><td style=\"text-align: right;\"> -5.76649</td><td style=\"text-align: right;\"> 24.7636 </td><td style=\"text-align: right;\">   249801  </td><td style=\"text-align: right;\">  -17078.6</td><td style=\"text-align: right;\">-773645          </td><td style=\"text-align: right;\">-18.1443 </td><td style=\"text-align: right;\">-16.4105 </td><td style=\"text-align: right;\"> 21.7957   </td><td style=\"text-align: right;\">        1</td><td style=\"text-align: right;\">             1</td><td style=\"text-align: right;\">     0</td><td style=\"text-align: right;\">            1</td></tr>\n",
              "<tr><td style=\"text-align: right;\">       272651  </td><td style=\"text-align: right;\">     0</td><td style=\"text-align: right;\">    -0.83416 </td><td style=\"text-align: right;\">         1</td><td style=\"text-align: right;\"> -5.68512</td><td style=\"text-align: right;\">       0</td><td style=\"text-align: right;\">    -182.301</td><td style=\"text-align: right;\"> 0.0571784</td><td style=\"text-align: right;\">   840.777 </td><td style=\"text-align: right;\"> -8.05433</td><td style=\"text-align: right;\">-17.6866 </td><td style=\"text-align: right;\">   159269  </td><td style=\"text-align: right;\">  173954  </td><td style=\"text-align: right;\">     -1.14679e+06</td><td style=\"text-align: right;\"> 19.7749 </td><td style=\"text-align: right;\">-20.7669 </td><td style=\"text-align: right;\"> -5.52406  </td><td style=\"text-align: right;\">        1</td><td style=\"text-align: right;\">             0</td><td style=\"text-align: right;\">     0</td><td style=\"text-align: right;\">            1</td></tr>\n",
              "<tr><td style=\"text-align: right;\">       255953  </td><td style=\"text-align: right;\">     0</td><td style=\"text-align: right;\">     0.145045</td><td style=\"text-align: right;\">         0</td><td style=\"text-align: right;\"> -1.34368</td><td style=\"text-align: right;\">       1</td><td style=\"text-align: right;\">    -400.05 </td><td style=\"text-align: right;\"> 0.0860199</td><td style=\"text-align: right;\">   -44.2142</td><td style=\"text-align: right;\">  7.96053</td><td style=\"text-align: right;\">  0.50637</td><td style=\"text-align: right;\">  -117206  </td><td style=\"text-align: right;\"> -100925  </td><td style=\"text-align: right;\">      1.18864e+06</td><td style=\"text-align: right;\">  2.92189</td><td style=\"text-align: right;\">  9.72784</td><td style=\"text-align: right;\"> 38.1876   </td><td style=\"text-align: right;\">        1</td><td style=\"text-align: right;\">             0</td><td style=\"text-align: right;\">     1</td><td style=\"text-align: right;\">            3</td></tr>\n",
              "<tr><td style=\"text-align: right;\">       314396  </td><td style=\"text-align: right;\">     0</td><td style=\"text-align: right;\">    -0.83416 </td><td style=\"text-align: right;\">         1</td><td style=\"text-align: right;\">-18.7095 </td><td style=\"text-align: right;\">       0</td><td style=\"text-align: right;\">    -146.009</td><td style=\"text-align: right;\"> 0.0860199</td><td style=\"text-align: right;\">  1654.97  </td><td style=\"text-align: right;\"> -1.19082</td><td style=\"text-align: right;\">-60.1368 </td><td style=\"text-align: right;\">   -59070.8</td><td style=\"text-align: right;\">  -44307.1</td><td style=\"text-align: right;\">     -1.54489e+06</td><td style=\"text-align: right;\"> 15.5616 </td><td style=\"text-align: right;\">-12.0542 </td><td style=\"text-align: right;\">-32.8438   </td><td style=\"text-align: right;\">        1</td><td style=\"text-align: right;\">             1</td><td style=\"text-align: right;\">     1</td><td style=\"text-align: right;\">            0</td></tr>\n",
              "<tr><td style=\"text-align: right;\">        90731.7</td><td style=\"text-align: right;\">     1</td><td style=\"text-align: right;\">    -0.83416 </td><td style=\"text-align: right;\">         0</td><td style=\"text-align: right;\">-18.7095 </td><td style=\"text-align: right;\">       0</td><td style=\"text-align: right;\">     380.216</td><td style=\"text-align: right;\"> 0.0571784</td><td style=\"text-align: right;\">  1194.77  </td><td style=\"text-align: right;\">  5.67269</td><td style=\"text-align: right;\"> 24.7636 </td><td style=\"text-align: right;\">  -114987  </td><td style=\"text-align: right;\"> -179586  </td><td style=\"text-align: right;\">     -1.11208e+06</td><td style=\"text-align: right;\"> 19.7749 </td><td style=\"text-align: right;\">-20.7669 </td><td style=\"text-align: right;\"> 49.1155   </td><td style=\"text-align: right;\">        1</td><td style=\"text-align: right;\">             0</td><td style=\"text-align: right;\">     0</td><td style=\"text-align: right;\">            0</td></tr>\n",
              "<tr><td style=\"text-align: right;\">      -320564  </td><td style=\"text-align: right;\">     1</td><td style=\"text-align: right;\">    -0.75256 </td><td style=\"text-align: right;\">         1</td><td style=\"text-align: right;\">-10.0266 </td><td style=\"text-align: right;\">       1</td><td style=\"text-align: right;\">    -418.195</td><td style=\"text-align: right;\">-0.115871 </td><td style=\"text-align: right;\"> -1672.6   </td><td style=\"text-align: right;\">  1.09702</td><td style=\"text-align: right;\"> 30.8279 </td><td style=\"text-align: right;\">   218292  </td><td style=\"text-align: right;\">  -11892.2</td><td style=\"text-align: right;\">     -1.74773e+06</td><td style=\"text-align: right;\"> 28.2014 </td><td style=\"text-align: right;\"> 18.4406 </td><td style=\"text-align: right;\">  5.40385  </td><td style=\"text-align: right;\">        1</td><td style=\"text-align: right;\">             0</td><td style=\"text-align: right;\">     0</td><td style=\"text-align: right;\">            0</td></tr>\n",
              "</tbody>\n",
              "</table><pre style='font-size: smaller; margin-bottom: 1em;'>[2000 rows x 21 columns]</pre>"
            ]
          },
          "metadata": {},
          "execution_count": 29
        }
      ],
      "source": [
        "df"
      ]
    },
    {
      "cell_type": "code",
      "execution_count": 30,
      "id": "73f9c52f",
      "metadata": {
        "id": "73f9c52f"
      },
      "outputs": [],
      "source": [
        "train, test = df.split_frame(ratios=[0.8], seed=42)"
      ]
    },
    {
      "cell_type": "code",
      "source": [
        "from h2o.automl import H2OAutoML\n",
        "\n",
        "automl = H2OAutoML(max_models=10, seed=42)\n",
        "automl.train(x=train.columns[:-1], y=train.columns[-1], training_frame=train)"
      ],
      "metadata": {
        "colab": {
          "base_uri": "https://localhost:8080/",
          "height": 1000
        },
        "id": "H1YkEt1bgBrC",
        "outputId": "003a0209-bdba-4f98-8ddf-24bc5f5093d3"
      },
      "id": "H1YkEt1bgBrC",
      "execution_count": 31,
      "outputs": [
        {
          "output_type": "stream",
          "name": "stdout",
          "text": [
            "AutoML progress: |███████████████████████████████████████████████████████████████| (done) 100%\n"
          ]
        },
        {
          "output_type": "execute_result",
          "data": {
            "text/plain": [
              "Model Details\n",
              "=============\n",
              "H2OStackedEnsembleEstimator : Stacked Ensemble\n",
              "Model Key: StackedEnsemble_AllModels_1_AutoML_1_20230925_85805\n",
              "\n",
              "\n",
              "Model Summary for Stacked Ensemble: \n",
              "key                                   value\n",
              "------------------------------------  ----------------\n",
              "Stacking strategy                     cross_validation\n",
              "Number of base models (used / total)  9/10\n",
              "# GBM base models (used / total)      3/4\n",
              "# XGBoost base models (used / total)  3/3\n",
              "# DRF base models (used / total)      2/2\n",
              "# GLM base models (used / total)      1/1\n",
              "Metalearner algorithm                 GLM\n",
              "Metalearner fold assignment scheme    Random\n",
              "Metalearner nfolds                    5\n",
              "Metalearner fold_column\n",
              "Custom metalearner hyperparameters    None\n",
              "\n",
              "ModelMetricsRegressionGLM: stackedensemble\n",
              "** Reported on train data. **\n",
              "\n",
              "MSE: 0.010992335708609755\n",
              "RMSE: 0.10484434037471815\n",
              "MAE: 0.08322857488727547\n",
              "RMSLE: 0.05664171339438588\n",
              "Mean Residual Deviance: 0.010992335708609755\n",
              "R^2: 0.9911947979457095\n",
              "Null degrees of freedom: 1593\n",
              "Residual degrees of freedom: 1584\n",
              "Null deviance: 1989.9353826850665\n",
              "Residual deviance: 17.52178311952395\n",
              "AIC: -2644.2518185943145\n",
              "\n",
              "ModelMetricsRegressionGLM: stackedensemble\n",
              "** Reported on cross-validation data. **\n",
              "\n",
              "MSE: 0.07139051497669943\n",
              "RMSE: 0.2671900353244848\n",
              "MAE: 0.1986939918778647\n",
              "RMSLE: 0.13439456838989852\n",
              "Mean Residual Deviance: 0.07139051497669943\n",
              "R^2: 0.9428139818694462\n",
              "Null degrees of freedom: 1593\n",
              "Residual degrees of freedom: 1584\n",
              "Null deviance: 1992.6853039906168\n",
              "Residual deviance: 113.7964808728589\n",
              "AIC: 338.0691663485788\n",
              "\n",
              "Cross-Validation Metrics Summary: \n",
              "                        mean       sd          cv_1_valid    cv_2_valid    cv_3_valid    cv_4_valid    cv_5_valid\n",
              "----------------------  ---------  ----------  ------------  ------------  ------------  ------------  ------------\n",
              "mae                     0.199708   0.00940939  0.204495      0.200249      0.199645      0.209665      0.184483\n",
              "mean_residual_deviance  0.0717634  0.00587291  0.0766329     0.0749659     0.0705541     0.0746165     0.0620477\n",
              "mse                     0.0717634  0.00587291  0.0766329     0.0749659     0.0705541     0.0746165     0.0620477\n",
              "null_deviance           398.537    11.796      389.837       405.191       411.073       403.885       382.699\n",
              "r2                      0.942448   0.00332791  0.93885       0.941108      0.94397       0.940885      0.947427\n",
              "residual_deviance       22.8569    1.58313     23.8328       23.8392       22.9301       23.5788       20.1035\n",
              "rmse                    0.2677     0.0111895   0.276826      0.273799      0.26562       0.27316       0.249094\n",
              "rmsle                   0.134558   0.0113889   0.138149      0.145801      0.142035      0.129511      0.117291\n",
              "\n",
              "[tips]\n",
              "Use `model.explain()` to inspect the model.\n",
              "--\n",
              "Use `h2o.display.toggle_user_tips()` to switch on/off this section."
            ],
            "text/html": [
              "<pre style='margin: 1em 0 1em 0;'>Model Details\n",
              "=============\n",
              "H2OStackedEnsembleEstimator : Stacked Ensemble\n",
              "Model Key: StackedEnsemble_AllModels_1_AutoML_1_20230925_85805\n",
              "</pre>\n",
              "<div style='margin: 1em 0 1em 0;'>\n",
              "<style>\n",
              "\n",
              "#h2o-table-2.h2o-container {\n",
              "  overflow-x: auto;\n",
              "}\n",
              "#h2o-table-2 .h2o-table {\n",
              "  /* width: 100%; */\n",
              "  margin-top: 1em;\n",
              "  margin-bottom: 1em;\n",
              "}\n",
              "#h2o-table-2 .h2o-table caption {\n",
              "  white-space: nowrap;\n",
              "  caption-side: top;\n",
              "  text-align: left;\n",
              "  /* margin-left: 1em; */\n",
              "  margin: 0;\n",
              "  font-size: larger;\n",
              "}\n",
              "#h2o-table-2 .h2o-table thead {\n",
              "  white-space: nowrap; \n",
              "  position: sticky;\n",
              "  top: 0;\n",
              "  box-shadow: 0 -1px inset;\n",
              "}\n",
              "#h2o-table-2 .h2o-table tbody {\n",
              "  overflow: auto;\n",
              "}\n",
              "#h2o-table-2 .h2o-table th,\n",
              "#h2o-table-2 .h2o-table td {\n",
              "  text-align: right;\n",
              "  /* border: 1px solid; */\n",
              "}\n",
              "#h2o-table-2 .h2o-table tr:nth-child(even) {\n",
              "  /* background: #F5F5F5 */\n",
              "}\n",
              "\n",
              "</style>      \n",
              "<div id=\"h2o-table-2\" class=\"h2o-container\">\n",
              "  <table class=\"h2o-table\">\n",
              "    <caption>Model Summary for Stacked Ensemble: </caption>\n",
              "    <thead><tr><th>key</th>\n",
              "<th>value</th></tr></thead>\n",
              "    <tbody><tr><td>Stacking strategy</td>\n",
              "<td>cross_validation</td></tr>\n",
              "<tr><td>Number of base models (used / total)</td>\n",
              "<td>9/10</td></tr>\n",
              "<tr><td># GBM base models (used / total)</td>\n",
              "<td>3/4</td></tr>\n",
              "<tr><td># XGBoost base models (used / total)</td>\n",
              "<td>3/3</td></tr>\n",
              "<tr><td># DRF base models (used / total)</td>\n",
              "<td>2/2</td></tr>\n",
              "<tr><td># GLM base models (used / total)</td>\n",
              "<td>1/1</td></tr>\n",
              "<tr><td>Metalearner algorithm</td>\n",
              "<td>GLM</td></tr>\n",
              "<tr><td>Metalearner fold assignment scheme</td>\n",
              "<td>Random</td></tr>\n",
              "<tr><td>Metalearner nfolds</td>\n",
              "<td>5</td></tr>\n",
              "<tr><td>Metalearner fold_column</td>\n",
              "<td>None</td></tr>\n",
              "<tr><td>Custom metalearner hyperparameters</td>\n",
              "<td>None</td></tr></tbody>\n",
              "  </table>\n",
              "</div>\n",
              "</div>\n",
              "<div style='margin: 1em 0 1em 0;'><pre style='margin: 1em 0 1em 0;'>ModelMetricsRegressionGLM: stackedensemble\n",
              "** Reported on train data. **\n",
              "\n",
              "MSE: 0.010992335708609755\n",
              "RMSE: 0.10484434037471815\n",
              "MAE: 0.08322857488727547\n",
              "RMSLE: 0.05664171339438588\n",
              "Mean Residual Deviance: 0.010992335708609755\n",
              "R^2: 0.9911947979457095\n",
              "Null degrees of freedom: 1593\n",
              "Residual degrees of freedom: 1584\n",
              "Null deviance: 1989.9353826850665\n",
              "Residual deviance: 17.52178311952395\n",
              "AIC: -2644.2518185943145</pre></div>\n",
              "<div style='margin: 1em 0 1em 0;'><pre style='margin: 1em 0 1em 0;'>ModelMetricsRegressionGLM: stackedensemble\n",
              "** Reported on cross-validation data. **\n",
              "\n",
              "MSE: 0.07139051497669943\n",
              "RMSE: 0.2671900353244848\n",
              "MAE: 0.1986939918778647\n",
              "RMSLE: 0.13439456838989852\n",
              "Mean Residual Deviance: 0.07139051497669943\n",
              "R^2: 0.9428139818694462\n",
              "Null degrees of freedom: 1593\n",
              "Residual degrees of freedom: 1584\n",
              "Null deviance: 1992.6853039906168\n",
              "Residual deviance: 113.7964808728589\n",
              "AIC: 338.0691663485788</pre></div>\n",
              "<div style='margin: 1em 0 1em 0;'>\n",
              "<style>\n",
              "\n",
              "#h2o-table-3.h2o-container {\n",
              "  overflow-x: auto;\n",
              "}\n",
              "#h2o-table-3 .h2o-table {\n",
              "  /* width: 100%; */\n",
              "  margin-top: 1em;\n",
              "  margin-bottom: 1em;\n",
              "}\n",
              "#h2o-table-3 .h2o-table caption {\n",
              "  white-space: nowrap;\n",
              "  caption-side: top;\n",
              "  text-align: left;\n",
              "  /* margin-left: 1em; */\n",
              "  margin: 0;\n",
              "  font-size: larger;\n",
              "}\n",
              "#h2o-table-3 .h2o-table thead {\n",
              "  white-space: nowrap; \n",
              "  position: sticky;\n",
              "  top: 0;\n",
              "  box-shadow: 0 -1px inset;\n",
              "}\n",
              "#h2o-table-3 .h2o-table tbody {\n",
              "  overflow: auto;\n",
              "}\n",
              "#h2o-table-3 .h2o-table th,\n",
              "#h2o-table-3 .h2o-table td {\n",
              "  text-align: right;\n",
              "  /* border: 1px solid; */\n",
              "}\n",
              "#h2o-table-3 .h2o-table tr:nth-child(even) {\n",
              "  /* background: #F5F5F5 */\n",
              "}\n",
              "\n",
              "</style>      \n",
              "<div id=\"h2o-table-3\" class=\"h2o-container\">\n",
              "  <table class=\"h2o-table\">\n",
              "    <caption>Cross-Validation Metrics Summary: </caption>\n",
              "    <thead><tr><th></th>\n",
              "<th>mean</th>\n",
              "<th>sd</th>\n",
              "<th>cv_1_valid</th>\n",
              "<th>cv_2_valid</th>\n",
              "<th>cv_3_valid</th>\n",
              "<th>cv_4_valid</th>\n",
              "<th>cv_5_valid</th></tr></thead>\n",
              "    <tbody><tr><td>mae</td>\n",
              "<td>0.1997075</td>\n",
              "<td>0.0094094</td>\n",
              "<td>0.2044945</td>\n",
              "<td>0.2002492</td>\n",
              "<td>0.1996453</td>\n",
              "<td>0.2096653</td>\n",
              "<td>0.1844833</td></tr>\n",
              "<tr><td>mean_residual_deviance</td>\n",
              "<td>0.0717634</td>\n",
              "<td>0.0058729</td>\n",
              "<td>0.0766329</td>\n",
              "<td>0.0749659</td>\n",
              "<td>0.0705541</td>\n",
              "<td>0.0746165</td>\n",
              "<td>0.0620477</td></tr>\n",
              "<tr><td>mse</td>\n",
              "<td>0.0717634</td>\n",
              "<td>0.0058729</td>\n",
              "<td>0.0766329</td>\n",
              "<td>0.0749659</td>\n",
              "<td>0.0705541</td>\n",
              "<td>0.0746165</td>\n",
              "<td>0.0620477</td></tr>\n",
              "<tr><td>null_deviance</td>\n",
              "<td>398.53705</td>\n",
              "<td>11.796046</td>\n",
              "<td>389.83682</td>\n",
              "<td>405.19128</td>\n",
              "<td>411.07324</td>\n",
              "<td>403.88528</td>\n",
              "<td>382.69867</td></tr>\n",
              "<tr><td>r2</td>\n",
              "<td>0.942448</td>\n",
              "<td>0.0033279</td>\n",
              "<td>0.9388499</td>\n",
              "<td>0.9411077</td>\n",
              "<td>0.9439703</td>\n",
              "<td>0.9408846</td>\n",
              "<td>0.9474275</td></tr>\n",
              "<tr><td>residual_deviance</td>\n",
              "<td>22.856867</td>\n",
              "<td>1.5831251</td>\n",
              "<td>23.832819</td>\n",
              "<td>23.839153</td>\n",
              "<td>22.930094</td>\n",
              "<td>23.5788</td>\n",
              "<td>20.103464</td></tr>\n",
              "<tr><td>rmse</td>\n",
              "<td>0.2676999</td>\n",
              "<td>0.0111895</td>\n",
              "<td>0.2768264</td>\n",
              "<td>0.273799</td>\n",
              "<td>0.2656203</td>\n",
              "<td>0.2731601</td>\n",
              "<td>0.2490938</td></tr>\n",
              "<tr><td>rmsle</td>\n",
              "<td>0.1345575</td>\n",
              "<td>0.0113889</td>\n",
              "<td>0.1381494</td>\n",
              "<td>0.1458012</td>\n",
              "<td>0.1420349</td>\n",
              "<td>0.1295110</td>\n",
              "<td>0.1172913</td></tr></tbody>\n",
              "  </table>\n",
              "</div>\n",
              "</div><pre style=\"font-size: smaller; margin: 1em 0 0 0;\">\n",
              "\n",
              "[tips]\n",
              "Use `model.explain()` to inspect the model.\n",
              "--\n",
              "Use `h2o.display.toggle_user_tips()` to switch on/off this section.</pre>"
            ]
          },
          "metadata": {},
          "execution_count": 31
        }
      ]
    },
    {
      "cell_type": "code",
      "source": [
        "automl.leaderboard"
      ],
      "metadata": {
        "colab": {
          "base_uri": "https://localhost:8080/",
          "height": 409
        },
        "id": "j_yWYIhbiX67",
        "outputId": "0197af17-7fd4-49ab-e753-bd902c5d5fdb"
      },
      "id": "j_yWYIhbiX67",
      "execution_count": 32,
      "outputs": [
        {
          "output_type": "execute_result",
          "data": {
            "text/plain": [
              "model_id                                                    rmse        mse       mae     rmsle    mean_residual_deviance\n",
              "------------------------------------------------------  --------  ---------  --------  --------  ------------------------\n",
              "StackedEnsemble_AllModels_1_AutoML_1_20230925_85805     0.26719   0.0713905  0.198694  0.134395                 0.0713905\n",
              "StackedEnsemble_BestOfFamily_1_AutoML_1_20230925_85805  0.269745  0.0727624  0.201057  0.136046                 0.0727624\n",
              "GBM_4_AutoML_1_20230925_85805                           0.274969  0.0756077  0.195696  0.136627                 0.0756077\n",
              "GBM_2_AutoML_1_20230925_85805                           0.280081  0.0784454  0.20809   0.142393                 0.0784454\n",
              "GBM_3_AutoML_1_20230925_85805                           0.280717  0.0788019  0.208017  0.141995                 0.0788019\n",
              "GBM_1_AutoML_1_20230925_85805                           0.29116   0.0847741  0.239412  0.152513                 0.0847741\n",
              "XGBoost_2_AutoML_1_20230925_85805                       0.309215  0.095614   0.226367  0.158493                 0.095614\n",
              "XGBoost_1_AutoML_1_20230925_85805                       0.312484  0.097646   0.237081  0.158744                 0.097646\n",
              "XGBoost_3_AutoML_1_20230925_85805                       0.313213  0.0981025  0.240416  0.163128                 0.0981025\n",
              "XRT_1_AutoML_1_20230925_85805                           0.31338   0.0982072  0.245164  0.163271                 0.0982072\n",
              "[12 rows x 6 columns]\n"
            ],
            "text/html": [
              "<table class='dataframe'>\n",
              "<thead>\n",
              "<tr><th>model_id                                              </th><th style=\"text-align: right;\">    rmse</th><th style=\"text-align: right;\">      mse</th><th style=\"text-align: right;\">     mae</th><th style=\"text-align: right;\">   rmsle</th><th style=\"text-align: right;\">  mean_residual_deviance</th></tr>\n",
              "</thead>\n",
              "<tbody>\n",
              "<tr><td>StackedEnsemble_AllModels_1_AutoML_1_20230925_85805   </td><td style=\"text-align: right;\">0.26719 </td><td style=\"text-align: right;\">0.0713905</td><td style=\"text-align: right;\">0.198694</td><td style=\"text-align: right;\">0.134395</td><td style=\"text-align: right;\">               0.0713905</td></tr>\n",
              "<tr><td>StackedEnsemble_BestOfFamily_1_AutoML_1_20230925_85805</td><td style=\"text-align: right;\">0.269745</td><td style=\"text-align: right;\">0.0727624</td><td style=\"text-align: right;\">0.201057</td><td style=\"text-align: right;\">0.136046</td><td style=\"text-align: right;\">               0.0727624</td></tr>\n",
              "<tr><td>GBM_4_AutoML_1_20230925_85805                         </td><td style=\"text-align: right;\">0.274969</td><td style=\"text-align: right;\">0.0756077</td><td style=\"text-align: right;\">0.195696</td><td style=\"text-align: right;\">0.136627</td><td style=\"text-align: right;\">               0.0756077</td></tr>\n",
              "<tr><td>GBM_2_AutoML_1_20230925_85805                         </td><td style=\"text-align: right;\">0.280081</td><td style=\"text-align: right;\">0.0784454</td><td style=\"text-align: right;\">0.20809 </td><td style=\"text-align: right;\">0.142393</td><td style=\"text-align: right;\">               0.0784454</td></tr>\n",
              "<tr><td>GBM_3_AutoML_1_20230925_85805                         </td><td style=\"text-align: right;\">0.280717</td><td style=\"text-align: right;\">0.0788019</td><td style=\"text-align: right;\">0.208017</td><td style=\"text-align: right;\">0.141995</td><td style=\"text-align: right;\">               0.0788019</td></tr>\n",
              "<tr><td>GBM_1_AutoML_1_20230925_85805                         </td><td style=\"text-align: right;\">0.29116 </td><td style=\"text-align: right;\">0.0847741</td><td style=\"text-align: right;\">0.239412</td><td style=\"text-align: right;\">0.152513</td><td style=\"text-align: right;\">               0.0847741</td></tr>\n",
              "<tr><td>XGBoost_2_AutoML_1_20230925_85805                     </td><td style=\"text-align: right;\">0.309215</td><td style=\"text-align: right;\">0.095614 </td><td style=\"text-align: right;\">0.226367</td><td style=\"text-align: right;\">0.158493</td><td style=\"text-align: right;\">               0.095614 </td></tr>\n",
              "<tr><td>XGBoost_1_AutoML_1_20230925_85805                     </td><td style=\"text-align: right;\">0.312484</td><td style=\"text-align: right;\">0.097646 </td><td style=\"text-align: right;\">0.237081</td><td style=\"text-align: right;\">0.158744</td><td style=\"text-align: right;\">               0.097646 </td></tr>\n",
              "<tr><td>XGBoost_3_AutoML_1_20230925_85805                     </td><td style=\"text-align: right;\">0.313213</td><td style=\"text-align: right;\">0.0981025</td><td style=\"text-align: right;\">0.240416</td><td style=\"text-align: right;\">0.163128</td><td style=\"text-align: right;\">               0.0981025</td></tr>\n",
              "<tr><td>XRT_1_AutoML_1_20230925_85805                         </td><td style=\"text-align: right;\">0.31338 </td><td style=\"text-align: right;\">0.0982072</td><td style=\"text-align: right;\">0.245164</td><td style=\"text-align: right;\">0.163271</td><td style=\"text-align: right;\">               0.0982072</td></tr>\n",
              "</tbody>\n",
              "</table><pre style='font-size: smaller; margin-bottom: 1em;'>[12 rows x 6 columns]</pre>"
            ]
          },
          "metadata": {},
          "execution_count": 32
        }
      ]
    },
    {
      "cell_type": "code",
      "source": [
        "best_model = automl.leader\n",
        "predictions = best_model.predict(test)"
      ],
      "metadata": {
        "colab": {
          "base_uri": "https://localhost:8080/"
        },
        "id": "oeU59Clxj_7s",
        "outputId": "9b65aeb8-ac7b-4c92-fdf8-58a75e7b051e"
      },
      "id": "oeU59Clxj_7s",
      "execution_count": 33,
      "outputs": [
        {
          "output_type": "stream",
          "name": "stdout",
          "text": [
            "stackedensemble prediction progress: |███████████████████████████████████████████| (done) 100%\n"
          ]
        }
      ]
    },
    {
      "cell_type": "code",
      "source": [
        "best_model.model_performance(test)"
      ],
      "metadata": {
        "colab": {
          "base_uri": "https://localhost:8080/",
          "height": 288
        },
        "id": "acJfLBWdkCa3",
        "outputId": "b5ba911d-9352-4152-b926-4dd6fc04e5d4"
      },
      "id": "acJfLBWdkCa3",
      "execution_count": 36,
      "outputs": [
        {
          "output_type": "execute_result",
          "data": {
            "text/plain": [
              "ModelMetricsRegressionGLM: stackedensemble\n",
              "** Reported on test data. **\n",
              "\n",
              "MSE: 0.07286033944762901\n",
              "RMSE: 0.26992654454060094\n",
              "MAE: 0.20211165374717038\n",
              "RMSLE: 0.1304008054845276\n",
              "Mean Residual Deviance: 0.07286033944762901\n",
              "R^2: 0.9416868233991106\n",
              "Null degrees of freedom: 405\n",
              "Residual degrees of freedom: 396\n",
              "Null deviance: 510.773045564531\n",
              "Residual deviance: 29.58129781573738\n",
              "AIC: 110.77849258706526"
            ],
            "text/html": [
              "<pre style='margin: 1em 0 1em 0;'>ModelMetricsRegressionGLM: stackedensemble\n",
              "** Reported on test data. **\n",
              "\n",
              "MSE: 0.07286033944762901\n",
              "RMSE: 0.26992654454060094\n",
              "MAE: 0.20211165374717038\n",
              "RMSLE: 0.1304008054845276\n",
              "Mean Residual Deviance: 0.07286033944762901\n",
              "R^2: 0.9416868233991106\n",
              "Null degrees of freedom: 405\n",
              "Residual degrees of freedom: 396\n",
              "Null deviance: 510.773045564531\n",
              "Residual deviance: 29.58129781573738\n",
              "AIC: 110.77849258706526</pre>"
            ]
          },
          "metadata": {},
          "execution_count": 36
        }
      ]
    },
    {
      "cell_type": "code",
      "source": [],
      "metadata": {
        "id": "SwEPqGgskQ92"
      },
      "id": "SwEPqGgskQ92",
      "execution_count": null,
      "outputs": []
    }
  ],
  "metadata": {
    "kernelspec": {
      "display_name": "Python 3 (ipykernel)",
      "language": "python",
      "name": "python3"
    },
    "language_info": {
      "codemirror_mode": {
        "name": "ipython",
        "version": 3
      },
      "file_extension": ".py",
      "mimetype": "text/x-python",
      "name": "python",
      "nbconvert_exporter": "python",
      "pygments_lexer": "ipython3",
      "version": "3.9.13"
    },
    "colab": {
      "provenance": [],
      "include_colab_link": true
    }
  },
  "nbformat": 4,
  "nbformat_minor": 5
}