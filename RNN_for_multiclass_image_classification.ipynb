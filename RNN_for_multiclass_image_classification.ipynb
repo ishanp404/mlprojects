{
  "nbformat": 4,
  "nbformat_minor": 0,
  "metadata": {
    "colab": {
      "provenance": [],
      "gpuType": "T4",
      "authorship_tag": "ABX9TyNvO9wMQYJy7s5qB8IfzO7H",
      "include_colab_link": true
    },
    "kernelspec": {
      "name": "python3",
      "display_name": "Python 3"
    },
    "language_info": {
      "name": "python"
    },
    "accelerator": "GPU"
  },
  "cells": [
    {
      "cell_type": "markdown",
      "metadata": {
        "id": "view-in-github",
        "colab_type": "text"
      },
      "source": [
        "<a href=\"https://colab.research.google.com/github/ishanp404/mlprojects/blob/main/RNN_for_multiclass_image_classification.ipynb\" target=\"_parent\"><img src=\"https://colab.research.google.com/assets/colab-badge.svg\" alt=\"Open In Colab\"/></a>"
      ]
    },
    {
      "cell_type": "code",
      "execution_count": 1,
      "metadata": {
        "id": "SV0EOVZDgswN"
      },
      "outputs": [],
      "source": [
        "import tensorflow as tf\n",
        "from keras.models import Sequential\n",
        "from keras.layers import Embedding, LSTM, Flatten, Dropout, Dense\n",
        "from keras.callbacks import EarlyStopping"
      ]
    },
    {
      "cell_type": "code",
      "source": [
        "from keras.datasets import mnist"
      ],
      "metadata": {
        "id": "xLhoQfcJ-l5E"
      },
      "execution_count": 2,
      "outputs": []
    },
    {
      "cell_type": "code",
      "source": [
        "(x_train,y_train), (x_test,y_test) = mnist.load_data()"
      ],
      "metadata": {
        "colab": {
          "base_uri": "https://localhost:8080/"
        },
        "id": "NrRSqv8w-s18",
        "outputId": "92e578de-1584-4b87-d7f1-c361fa186d9e"
      },
      "execution_count": 3,
      "outputs": [
        {
          "output_type": "stream",
          "name": "stdout",
          "text": [
            "Downloading data from https://storage.googleapis.com/tensorflow/tf-keras-datasets/mnist.npz\n",
            "11490434/11490434 [==============================] - 2s 0us/step\n"
          ]
        }
      ]
    },
    {
      "cell_type": "code",
      "source": [
        "x_train = x_train/255.0\n",
        "x_test = x_test/255.0"
      ],
      "metadata": {
        "id": "kkt_60f2_dTA"
      },
      "execution_count": 4,
      "outputs": []
    },
    {
      "cell_type": "code",
      "source": [
        "model = Sequential()"
      ],
      "metadata": {
        "id": "BcHzKT9V_Mjo"
      },
      "execution_count": 5,
      "outputs": []
    },
    {
      "cell_type": "code",
      "source": [
        "model.add(LSTM(units=128, activation='relu', return_sequences=True, input_shape=(28,28)))\n",
        "model.add(Dropout(0.2))\n",
        "\n",
        "model.add(LSTM(units=128, activation='relu'))\n",
        "model.add(Dropout(0.2))\n",
        "\n",
        "model.add(Dense(units=32, activation='relu'))\n",
        "model.add(Dropout(0.2))\n",
        "\n",
        "model.add(Dense(units=10, activation='softmax'))"
      ],
      "metadata": {
        "colab": {
          "base_uri": "https://localhost:8080/"
        },
        "id": "3YW8MSj__WWD",
        "outputId": "376727cb-7f7d-4b87-b04a-3761ad366b93"
      },
      "execution_count": 6,
      "outputs": [
        {
          "output_type": "stream",
          "name": "stderr",
          "text": [
            "WARNING:tensorflow:Layer lstm will not use cuDNN kernels since it doesn't meet the criteria. It will use a generic GPU kernel as fallback when running on GPU.\n",
            "WARNING:tensorflow:Layer lstm_1 will not use cuDNN kernels since it doesn't meet the criteria. It will use a generic GPU kernel as fallback when running on GPU.\n"
          ]
        }
      ]
    },
    {
      "cell_type": "code",
      "source": [
        "model.compile(optimizer='adam', loss = 'sparse_categorical_crossentropy', metrics = ['sparse_categorical_accuracy'])"
      ],
      "metadata": {
        "id": "z_pfloYCASw3"
      },
      "execution_count": 7,
      "outputs": []
    },
    {
      "cell_type": "code",
      "source": [
        "ec = EarlyStopping(monitor='val_loss', patience=10)"
      ],
      "metadata": {
        "id": "UCOLMMWpBi5a"
      },
      "execution_count": 8,
      "outputs": []
    },
    {
      "cell_type": "code",
      "source": [
        "model.fit(x_train, y_train, validation_data=(x_test,y_test), epochs=50, callbacks=[ec])"
      ],
      "metadata": {
        "colab": {
          "base_uri": "https://localhost:8080/"
        },
        "id": "AgRWd3oxBZET",
        "outputId": "d927c378-7376-4269-b009-a313ff4f5d78"
      },
      "execution_count": 9,
      "outputs": [
        {
          "output_type": "stream",
          "name": "stdout",
          "text": [
            "Epoch 1/50\n",
            "1875/1875 [==============================] - 105s 51ms/step - loss: 0.7029 - sparse_categorical_accuracy: 0.7673 - val_loss: 0.1806 - val_sparse_categorical_accuracy: 0.9458\n",
            "Epoch 2/50\n",
            "1875/1875 [==============================] - 95s 51ms/step - loss: 0.1721 - sparse_categorical_accuracy: 0.9534 - val_loss: 0.0883 - val_sparse_categorical_accuracy: 0.9725\n",
            "Epoch 3/50\n",
            "1875/1875 [==============================] - 92s 49ms/step - loss: 0.1142 - sparse_categorical_accuracy: 0.9695 - val_loss: 0.0670 - val_sparse_categorical_accuracy: 0.9796\n",
            "Epoch 4/50\n",
            "1875/1875 [==============================] - 94s 50ms/step - loss: 0.0889 - sparse_categorical_accuracy: 0.9763 - val_loss: 0.0586 - val_sparse_categorical_accuracy: 0.9824\n",
            "Epoch 5/50\n",
            "1875/1875 [==============================] - 93s 50ms/step - loss: 0.0737 - sparse_categorical_accuracy: 0.9806 - val_loss: 0.0573 - val_sparse_categorical_accuracy: 0.9830\n",
            "Epoch 6/50\n",
            "1875/1875 [==============================] - 92s 49ms/step - loss: 0.0679 - sparse_categorical_accuracy: 0.9823 - val_loss: 0.0502 - val_sparse_categorical_accuracy: 0.9861\n",
            "Epoch 7/50\n",
            "1875/1875 [==============================] - 94s 50ms/step - loss: 0.0524 - sparse_categorical_accuracy: 0.9852 - val_loss: 0.0378 - val_sparse_categorical_accuracy: 0.9885\n",
            "Epoch 8/50\n",
            "1875/1875 [==============================] - 96s 51ms/step - loss: 0.0499 - sparse_categorical_accuracy: 0.9864 - val_loss: 0.0501 - val_sparse_categorical_accuracy: 0.9871\n",
            "Epoch 9/50\n",
            "1875/1875 [==============================] - 94s 50ms/step - loss: 0.0445 - sparse_categorical_accuracy: 0.9882 - val_loss: 0.0333 - val_sparse_categorical_accuracy: 0.9901\n",
            "Epoch 10/50\n",
            "1875/1875 [==============================] - 93s 49ms/step - loss: 0.0396 - sparse_categorical_accuracy: 0.9897 - val_loss: 0.0531 - val_sparse_categorical_accuracy: 0.9875\n",
            "Epoch 11/50\n",
            "1875/1875 [==============================] - 92s 49ms/step - loss: 0.0366 - sparse_categorical_accuracy: 0.9906 - val_loss: 0.0439 - val_sparse_categorical_accuracy: 0.9893\n",
            "Epoch 12/50\n",
            "1875/1875 [==============================] - 94s 50ms/step - loss: 0.0343 - sparse_categorical_accuracy: 0.9903 - val_loss: 0.0308 - val_sparse_categorical_accuracy: 0.9912\n",
            "Epoch 13/50\n",
            "1875/1875 [==============================] - 92s 49ms/step - loss: 0.0326 - sparse_categorical_accuracy: 0.9917 - val_loss: 0.0365 - val_sparse_categorical_accuracy: 0.9917\n",
            "Epoch 14/50\n",
            "1875/1875 [==============================] - 95s 50ms/step - loss: 0.0279 - sparse_categorical_accuracy: 0.9923 - val_loss: 0.0371 - val_sparse_categorical_accuracy: 0.9902\n",
            "Epoch 15/50\n",
            "1875/1875 [==============================] - 96s 51ms/step - loss: 0.7411 - sparse_categorical_accuracy: 0.9870 - val_loss: 0.0415 - val_sparse_categorical_accuracy: 0.9893\n",
            "Epoch 16/50\n",
            "1875/1875 [==============================] - 93s 50ms/step - loss: 0.0226 - sparse_categorical_accuracy: 0.9939 - val_loss: 0.0324 - val_sparse_categorical_accuracy: 0.9904\n",
            "Epoch 17/50\n",
            "1875/1875 [==============================] - 92s 49ms/step - loss: 0.0215 - sparse_categorical_accuracy: 0.9942 - val_loss: 0.0400 - val_sparse_categorical_accuracy: 0.9910\n",
            "Epoch 18/50\n",
            "1875/1875 [==============================] - 93s 49ms/step - loss: 0.0202 - sparse_categorical_accuracy: 0.9945 - val_loss: 0.0358 - val_sparse_categorical_accuracy: 0.9913\n",
            "Epoch 19/50\n",
            "1875/1875 [==============================] - 94s 50ms/step - loss: 0.0216 - sparse_categorical_accuracy: 0.9942 - val_loss: 0.0404 - val_sparse_categorical_accuracy: 0.9901\n",
            "Epoch 20/50\n",
            "1875/1875 [==============================] - 97s 52ms/step - loss: 0.0236 - sparse_categorical_accuracy: 0.9937 - val_loss: 0.0418 - val_sparse_categorical_accuracy: 0.9890\n",
            "Epoch 21/50\n",
            "1875/1875 [==============================] - 92s 49ms/step - loss: 0.0219 - sparse_categorical_accuracy: 0.9939 - val_loss: 0.0387 - val_sparse_categorical_accuracy: 0.9894\n",
            "Epoch 22/50\n",
            "1875/1875 [==============================] - 93s 49ms/step - loss: 0.0191 - sparse_categorical_accuracy: 0.9947 - val_loss: 0.0347 - val_sparse_categorical_accuracy: 0.9909\n"
          ]
        },
        {
          "output_type": "execute_result",
          "data": {
            "text/plain": [
              "<keras.src.callbacks.History at 0x7910508a07f0>"
            ]
          },
          "metadata": {},
          "execution_count": 9
        }
      ]
    },
    {
      "cell_type": "code",
      "source": [
        "model.evaluate(x_test, y_test)"
      ],
      "metadata": {
        "colab": {
          "base_uri": "https://localhost:8080/"
        },
        "id": "18MGbhA1Bq0N",
        "outputId": "3a739fb3-b72f-4a1e-b6b3-09c8df5c9abd"
      },
      "execution_count": 10,
      "outputs": [
        {
          "output_type": "stream",
          "name": "stdout",
          "text": [
            "313/313 [==============================] - 3s 10ms/step - loss: 0.0347 - sparse_categorical_accuracy: 0.9909\n"
          ]
        },
        {
          "output_type": "execute_result",
          "data": {
            "text/plain": [
              "[0.034719135612249374, 0.9908999800682068]"
            ]
          },
          "metadata": {},
          "execution_count": 10
        }
      ]
    },
    {
      "cell_type": "code",
      "source": [],
      "metadata": {
        "id": "2PBGQnHAM6vu"
      },
      "execution_count": null,
      "outputs": []
    }
  ]
}