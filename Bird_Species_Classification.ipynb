{
  "nbformat": 4,
  "nbformat_minor": 0,
  "metadata": {
    "colab": {
      "provenance": [],
      "gpuType": "T4",
      "mount_file_id": "1CmNsjOYp_mjaab0K5Xy3oHLnu_2DcAGh",
      "authorship_tag": "ABX9TyOpnJfJqk8TImVCMwNjF+ej",
      "include_colab_link": true
    },
    "kernelspec": {
      "name": "python3",
      "display_name": "Python 3"
    },
    "language_info": {
      "name": "python"
    },
    "accelerator": "GPU"
  },
  "cells": [
    {
      "cell_type": "markdown",
      "metadata": {
        "id": "view-in-github",
        "colab_type": "text"
      },
      "source": [
        "<a href=\"https://colab.research.google.com/github/ishanp404/mlprojects/blob/main/Bird_Species_Classification.ipynb\" target=\"_parent\"><img src=\"https://colab.research.google.com/assets/colab-badge.svg\" alt=\"Open In Colab\"/></a>"
      ]
    },
    {
      "cell_type": "code",
      "execution_count": 1,
      "metadata": {
        "id": "rJpNCAOCFIU0"
      },
      "outputs": [],
      "source": [
        "import tensorflow as tf\n",
        "from tensorflow_hub import KerasLayer\n",
        "from keras.models import Sequential\n",
        "from keras.layers import Conv2D, MaxPool2D, Flatten, Activation, Dropout, Dense\n",
        "from keras.preprocessing.image import ImageDataGenerator\n",
        "from keras.callbacks import EarlyStopping"
      ]
    },
    {
      "cell_type": "code",
      "source": [
        "imgen = ImageDataGenerator(validation_split=0.2, rescale=1/255.0)"
      ],
      "metadata": {
        "id": "EUQSOQL5HIPE"
      },
      "execution_count": 2,
      "outputs": []
    },
    {
      "cell_type": "code",
      "source": [
        "input_shape = (224,224,3)"
      ],
      "metadata": {
        "id": "R1aA8se05QTT"
      },
      "execution_count": 3,
      "outputs": []
    },
    {
      "cell_type": "code",
      "source": [
        "train = imgen.flow_from_directory(\n",
        "    '/content/drive/MyDrive/Bird Species Dataset/',\n",
        "    batch_size=32,\n",
        "    target_size = input_shape[:2],\n",
        "    class_mode='categorical',\n",
        "    subset='training'\n",
        ")"
      ],
      "metadata": {
        "colab": {
          "base_uri": "https://localhost:8080/"
        },
        "id": "iVIvEEBs4IWZ",
        "outputId": "79953676-3ae8-4021-f6ca-fb40ce645612"
      },
      "execution_count": 4,
      "outputs": [
        {
          "output_type": "stream",
          "name": "stdout",
          "text": [
            "Found 652 images belonging to 6 classes.\n"
          ]
        }
      ]
    },
    {
      "cell_type": "code",
      "source": [
        "test = imgen.flow_from_directory(\n",
        "    '/content/drive/MyDrive/Bird Species Dataset/',\n",
        "    batch_size=32,\n",
        "    target_size = input_shape[:2],\n",
        "    class_mode='categorical',\n",
        "    subset='validation'\n",
        ")"
      ],
      "metadata": {
        "colab": {
          "base_uri": "https://localhost:8080/"
        },
        "id": "6ELF55Wx4eFu",
        "outputId": "ab7b756e-342b-4593-b68e-0de71c13675d"
      },
      "execution_count": 5,
      "outputs": [
        {
          "output_type": "stream",
          "name": "stdout",
          "text": [
            "Found 159 images belonging to 6 classes.\n"
          ]
        }
      ]
    },
    {
      "cell_type": "code",
      "source": [
        "model = Sequential()\n",
        "\n",
        "model.add(Conv2D(filters=32, kernel_size = 3, padding='same', activation='relu', input_shape=(224,224,3)))\n",
        "model.add(MaxPool2D(pool_size=2, strides=2, padding='valid'))\n",
        "\n",
        "model.add(Conv2D(filters=64, kernel_size = 3, padding='same', activation='relu'))\n",
        "model.add(MaxPool2D(pool_size=2, strides=2, padding='valid'))\n",
        "\n",
        "model.add(Conv2D(filters=128, kernel_size = 3, padding='same', activation='relu'))\n",
        "model.add(MaxPool2D(pool_size=2, strides=2, padding='valid'))\n",
        "\n",
        "model.add(Flatten())\n",
        "model.add(Dropout(0.4))\n",
        "\n",
        "model.add(Dense(units=128, activation='relu'))\n",
        "model.add(Dense(units=6, activation='softmax'))"
      ],
      "metadata": {
        "id": "4e2jHCuH41pB"
      },
      "execution_count": 6,
      "outputs": []
    },
    {
      "cell_type": "code",
      "source": [
        "from keras.metrics import Precision, Recall, AUC\n",
        "\n",
        "model.compile(\n",
        "    loss='categorical_crossentropy',\n",
        "    optimizer='adam',\n",
        "    metrics=['accuracy', Precision(), Recall(), AUC()]\n",
        ")"
      ],
      "metadata": {
        "id": "aJ0v_WGc572w"
      },
      "execution_count": 7,
      "outputs": []
    },
    {
      "cell_type": "code",
      "source": [
        "ec = EarlyStopping(monitor='val_loss', patience=10)"
      ],
      "metadata": {
        "id": "-GgTJjg46SF7"
      },
      "execution_count": 8,
      "outputs": []
    },
    {
      "cell_type": "code",
      "source": [
        "model.fit(train, validation_data=test, epochs=30, callbacks=[ec])"
      ],
      "metadata": {
        "colab": {
          "base_uri": "https://localhost:8080/"
        },
        "id": "b_7_Clw16MVn",
        "outputId": "7e5d4ae2-a390-4ca9-91cf-aaff79dae9e0"
      },
      "execution_count": 9,
      "outputs": [
        {
          "output_type": "stream",
          "name": "stdout",
          "text": [
            "Epoch 1/30\n",
            "21/21 [==============================] - 230s 10s/step - loss: 1.7947 - accuracy: 0.3052 - precision: 0.3968 - recall: 0.0767 - auc: 0.6914 - val_loss: 1.1324 - val_accuracy: 0.5849 - val_precision: 0.7895 - val_recall: 0.1887 - val_auc: 0.8976\n",
            "Epoch 2/30\n",
            "21/21 [==============================] - 2s 113ms/step - loss: 0.9425 - accuracy: 0.6779 - precision: 0.7597 - recall: 0.5092 - auc: 0.9110 - val_loss: 0.8942 - val_accuracy: 0.6918 - val_precision: 0.8316 - val_recall: 0.4969 - val_auc: 0.9204\n",
            "Epoch 3/30\n",
            "21/21 [==============================] - 3s 140ms/step - loss: 0.4966 - accuracy: 0.8328 - precision: 0.8969 - recall: 0.7607 - auc: 0.9755 - val_loss: 0.3933 - val_accuracy: 0.8931 - val_precision: 0.9189 - val_recall: 0.8553 - val_auc: 0.9800\n",
            "Epoch 4/30\n",
            "21/21 [==============================] - 2s 111ms/step - loss: 0.2303 - accuracy: 0.9248 - precision: 0.9419 - recall: 0.8957 - auc: 0.9949 - val_loss: 0.3512 - val_accuracy: 0.8805 - val_precision: 0.8954 - val_recall: 0.8616 - val_auc: 0.9869\n",
            "Epoch 5/30\n",
            "21/21 [==============================] - 2s 109ms/step - loss: 0.1250 - accuracy: 0.9540 - precision: 0.9655 - recall: 0.9433 - auc: 0.9986 - val_loss: 0.3359 - val_accuracy: 0.8931 - val_precision: 0.8968 - val_recall: 0.8742 - val_auc: 0.9873\n",
            "Epoch 6/30\n",
            "21/21 [==============================] - 2s 115ms/step - loss: 0.0635 - accuracy: 0.9847 - precision: 0.9892 - recall: 0.9801 - auc: 0.9996 - val_loss: 0.4744 - val_accuracy: 0.8742 - val_precision: 0.8734 - val_recall: 0.8679 - val_auc: 0.9797\n",
            "Epoch 7/30\n",
            "21/21 [==============================] - 2s 110ms/step - loss: 0.0540 - accuracy: 0.9801 - precision: 0.9845 - recall: 0.9755 - auc: 0.9998 - val_loss: 0.3803 - val_accuracy: 0.8805 - val_precision: 0.8854 - val_recall: 0.8742 - val_auc: 0.9813\n",
            "Epoch 8/30\n",
            "21/21 [==============================] - 3s 126ms/step - loss: 0.0494 - accuracy: 0.9801 - precision: 0.9831 - recall: 0.9785 - auc: 0.9998 - val_loss: 0.6015 - val_accuracy: 0.8742 - val_precision: 0.8742 - val_recall: 0.8742 - val_auc: 0.9660\n",
            "Epoch 9/30\n",
            "21/21 [==============================] - 2s 106ms/step - loss: 0.0199 - accuracy: 0.9969 - precision: 0.9969 - recall: 0.9969 - auc: 1.0000 - val_loss: 0.3662 - val_accuracy: 0.9182 - val_precision: 0.9182 - val_recall: 0.9182 - val_auc: 0.9828\n",
            "Epoch 10/30\n",
            "21/21 [==============================] - 2s 115ms/step - loss: 0.0072 - accuracy: 1.0000 - precision: 1.0000 - recall: 1.0000 - auc: 1.0000 - val_loss: 0.3947 - val_accuracy: 0.8994 - val_precision: 0.8994 - val_recall: 0.8994 - val_auc: 0.9843\n",
            "Epoch 11/30\n",
            "21/21 [==============================] - 2s 113ms/step - loss: 0.0022 - accuracy: 1.0000 - precision: 1.0000 - recall: 1.0000 - auc: 1.0000 - val_loss: 0.4066 - val_accuracy: 0.9057 - val_precision: 0.9057 - val_recall: 0.9057 - val_auc: 0.9813\n",
            "Epoch 12/30\n",
            "21/21 [==============================] - 2s 114ms/step - loss: 0.0010 - accuracy: 1.0000 - precision: 1.0000 - recall: 1.0000 - auc: 1.0000 - val_loss: 0.3914 - val_accuracy: 0.9245 - val_precision: 0.9245 - val_recall: 0.9245 - val_auc: 0.9820\n",
            "Epoch 13/30\n",
            "21/21 [==============================] - 3s 134ms/step - loss: 6.8964e-04 - accuracy: 1.0000 - precision: 1.0000 - recall: 1.0000 - auc: 1.0000 - val_loss: 0.3681 - val_accuracy: 0.9245 - val_precision: 0.9245 - val_recall: 0.9245 - val_auc: 0.9828\n",
            "Epoch 14/30\n",
            "21/21 [==============================] - 2s 116ms/step - loss: 4.9231e-04 - accuracy: 1.0000 - precision: 1.0000 - recall: 1.0000 - auc: 1.0000 - val_loss: 0.3870 - val_accuracy: 0.9308 - val_precision: 0.9308 - val_recall: 0.9308 - val_auc: 0.9825\n",
            "Epoch 15/30\n",
            "21/21 [==============================] - 2s 109ms/step - loss: 3.7336e-04 - accuracy: 1.0000 - precision: 1.0000 - recall: 1.0000 - auc: 1.0000 - val_loss: 0.3827 - val_accuracy: 0.9245 - val_precision: 0.9245 - val_recall: 0.9245 - val_auc: 0.9823\n"
          ]
        },
        {
          "output_type": "execute_result",
          "data": {
            "text/plain": [
              "<keras.src.callbacks.History at 0x7b27b478a9b0>"
            ]
          },
          "metadata": {},
          "execution_count": 9
        }
      ]
    },
    {
      "cell_type": "code",
      "source": [
        "model.evaluate(test)"
      ],
      "metadata": {
        "colab": {
          "base_uri": "https://localhost:8080/"
        },
        "id": "BY16bofb6j6m",
        "outputId": "e213570a-886b-4afc-9078-9c2b21383fa9"
      },
      "execution_count": 10,
      "outputs": [
        {
          "output_type": "stream",
          "name": "stdout",
          "text": [
            "5/5 [==============================] - 1s 96ms/step - loss: 0.3827 - accuracy: 0.9245 - precision: 0.9245 - recall: 0.9245 - auc: 0.9823\n"
          ]
        },
        {
          "output_type": "execute_result",
          "data": {
            "text/plain": [
              "[0.38268765807151794,\n",
              " 0.9245283007621765,\n",
              " 0.9245283007621765,\n",
              " 0.9245283007621765,\n",
              " 0.9822752475738525]"
            ]
          },
          "metadata": {},
          "execution_count": 10
        }
      ]
    },
    {
      "cell_type": "code",
      "source": [],
      "metadata": {
        "id": "edSw3VGo96Ew"
      },
      "execution_count": 10,
      "outputs": []
    }
  ]
}