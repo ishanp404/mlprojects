{
  "nbformat": 4,
  "nbformat_minor": 0,
  "metadata": {
    "colab": {
      "provenance": [],
      "gpuType": "T4",
      "mount_file_id": "1TeZLGDtO_3gmMDANLhMnw5BeIDJj0Aa-",
      "authorship_tag": "ABX9TyPtGkm8zpwEJEYE86EyLEQ4",
      "include_colab_link": true
    },
    "kernelspec": {
      "name": "python3",
      "display_name": "Python 3"
    },
    "language_info": {
      "name": "python"
    },
    "accelerator": "GPU"
  },
  "cells": [
    {
      "cell_type": "markdown",
      "metadata": {
        "id": "view-in-github",
        "colab_type": "text"
      },
      "source": [
        "<a href=\"https://colab.research.google.com/github/ishanp404/mlprojects/blob/main/Intel_Image_Classification.ipynb\" target=\"_parent\"><img src=\"https://colab.research.google.com/assets/colab-badge.svg\" alt=\"Open In Colab\"/></a>"
      ]
    },
    {
      "cell_type": "code",
      "execution_count": 1,
      "metadata": {
        "id": "zBuaPX61fS3E"
      },
      "outputs": [],
      "source": [
        "import cv2\n",
        "import matplotlib.pyplot as plt\n",
        "import tensorflow as tf\n",
        "from tensorflow_hub import KerasLayer\n",
        "from keras.preprocessing.image import ImageDataGenerator\n",
        "from keras.models import Sequential\n",
        "from keras.layers import Dense, Conv2D, MaxPooling2D, Flatten, Activation, Dropout\n",
        "from keras.callbacks import EarlyStopping"
      ]
    },
    {
      "cell_type": "code",
      "source": [
        "img_gen = ImageDataGenerator(rescale=1/255.0,validation_split=0.2)"
      ],
      "metadata": {
        "id": "H528rEhVq3mU"
      },
      "execution_count": 2,
      "outputs": []
    },
    {
      "cell_type": "code",
      "source": [
        "input_shape = (224,224,3)"
      ],
      "metadata": {
        "id": "ITlUJ217usyu"
      },
      "execution_count": 3,
      "outputs": []
    },
    {
      "cell_type": "code",
      "source": [
        "train = img_gen.flow_from_directory(\n",
        "    '/content/drive/MyDrive/Data/Intel Image Dataset/',\n",
        "    target_size=input_shape[:2],\n",
        "    batch_size = 32,\n",
        "    class_mode='categorical',\n",
        "    shuffle=True,\n",
        "    subset = 'training')"
      ],
      "metadata": {
        "colab": {
          "base_uri": "https://localhost:8080/"
        },
        "id": "WETU7HO1rCls",
        "outputId": "f67fec90-a738-4c3a-c570-9eeb1cd5bad3"
      },
      "execution_count": 4,
      "outputs": [
        {
          "output_type": "stream",
          "name": "stdout",
          "text": [
            "Found 2402 images belonging to 6 classes.\n"
          ]
        }
      ]
    },
    {
      "cell_type": "code",
      "source": [
        "test = img_gen.flow_from_directory(\n",
        "    '/content/drive/MyDrive/Data/Intel Image Dataset/',\n",
        "    target_size=input_shape[:2],\n",
        "    batch_size = 32,\n",
        "    class_mode='categorical',\n",
        "    shuffle=False,\n",
        "    subset = 'validation')"
      ],
      "metadata": {
        "colab": {
          "base_uri": "https://localhost:8080/"
        },
        "id": "mHq7juxGuoX4",
        "outputId": "39c8b301-b093-40cd-e705-9834fc1ac4f4"
      },
      "execution_count": 5,
      "outputs": [
        {
          "output_type": "stream",
          "name": "stdout",
          "text": [
            "Found 598 images belonging to 6 classes.\n"
          ]
        }
      ]
    },
    {
      "cell_type": "code",
      "source": [
        "train.class_indices"
      ],
      "metadata": {
        "colab": {
          "base_uri": "https://localhost:8080/"
        },
        "id": "Qxp0F3hkuzZ4",
        "outputId": "203c118e-31ff-4446-af38-cf689335393c"
      },
      "execution_count": 6,
      "outputs": [
        {
          "output_type": "execute_result",
          "data": {
            "text/plain": [
              "{'buildings': 0,\n",
              " 'forest': 1,\n",
              " 'glacier': 2,\n",
              " 'mountain': 3,\n",
              " 'sea': 4,\n",
              " 'street': 5}"
            ]
          },
          "metadata": {},
          "execution_count": 6
        }
      ]
    },
    {
      "cell_type": "code",
      "source": [
        "MODEL_URL = 'https://tfhub.dev/google/imagenet/mobilenet_v2_130_224/classification/5'"
      ],
      "metadata": {
        "id": "UxtnShBI2Jkj"
      },
      "execution_count": 7,
      "outputs": []
    },
    {
      "cell_type": "code",
      "source": [
        "INPUT_SHAPE = (None, 224, 224, 3)"
      ],
      "metadata": {
        "id": "x_npKMJr2Lv1"
      },
      "execution_count": 8,
      "outputs": []
    },
    {
      "cell_type": "code",
      "source": [
        "model = Sequential([\n",
        "    KerasLayer(MODEL_URL)\n",
        "])\n",
        "model.add(Flatten())\n",
        "model.add(Dense(128))\n",
        "model.add(Activation('relu'))\n",
        "\n",
        "model.add(Dropout(0.3))\n",
        "model.add(Dense(6))\n",
        "model.add(Activation('softmax'))\n",
        "\n",
        "model.compile(loss='categorical_crossentropy',\n",
        "              optimizer='adam',\n",
        "              metrics=['accuracy'])"
      ],
      "metadata": {
        "id": "Q-zSoC3JvJt4"
      },
      "execution_count": 9,
      "outputs": []
    },
    {
      "cell_type": "code",
      "source": [
        "model.build(INPUT_SHAPE)"
      ],
      "metadata": {
        "id": "94151rfT2N2K"
      },
      "execution_count": 10,
      "outputs": []
    },
    {
      "cell_type": "code",
      "source": [
        "model.summary()"
      ],
      "metadata": {
        "colab": {
          "base_uri": "https://localhost:8080/"
        },
        "id": "lDS7oABovhYQ",
        "outputId": "a1ff5320-7308-446f-d471-2e6449c4eb5b"
      },
      "execution_count": 11,
      "outputs": [
        {
          "output_type": "stream",
          "name": "stdout",
          "text": [
            "Model: \"sequential\"\n",
            "_________________________________________________________________\n",
            " Layer (type)                Output Shape              Param #   \n",
            "=================================================================\n",
            " keras_layer (KerasLayer)    (None, 1001)              5432713   \n",
            "                                                                 \n",
            " flatten (Flatten)           (None, 1001)              0         \n",
            "                                                                 \n",
            " dense (Dense)               (None, 128)               128256    \n",
            "                                                                 \n",
            " activation (Activation)     (None, 128)               0         \n",
            "                                                                 \n",
            " dropout (Dropout)           (None, 128)               0         \n",
            "                                                                 \n",
            " dense_1 (Dense)             (None, 6)                 774       \n",
            "                                                                 \n",
            " activation_1 (Activation)   (None, 6)                 0         \n",
            "                                                                 \n",
            "=================================================================\n",
            "Total params: 5561743 (21.22 MB)\n",
            "Trainable params: 129030 (504.02 KB)\n",
            "Non-trainable params: 5432713 (20.72 MB)\n",
            "_________________________________________________________________\n"
          ]
        }
      ]
    },
    {
      "cell_type": "code",
      "source": [
        "ec = EarlyStopping(monitor='val_loss', patience=15)"
      ],
      "metadata": {
        "id": "9X_uAu8BvjOE"
      },
      "execution_count": 12,
      "outputs": []
    },
    {
      "cell_type": "code",
      "source": [
        "model.fit(train, validation_data=test, epochs = 30, callbacks=[ec])"
      ],
      "metadata": {
        "colab": {
          "base_uri": "https://localhost:8080/"
        },
        "id": "KWnCqQP4vrt6",
        "outputId": "ec6d9834-5eed-42b7-d419-988e3920a2b5"
      },
      "execution_count": 13,
      "outputs": [
        {
          "output_type": "stream",
          "name": "stdout",
          "text": [
            "Epoch 1/30\n",
            "76/76 [==============================] - 1161s 15s/step - loss: 0.4907 - accuracy: 0.8335 - val_loss: 0.2735 - val_accuracy: 0.8846\n",
            "Epoch 2/30\n",
            "76/76 [==============================] - 9s 113ms/step - loss: 0.2361 - accuracy: 0.9109 - val_loss: 0.2602 - val_accuracy: 0.8930\n",
            "Epoch 3/30\n",
            "76/76 [==============================] - 9s 123ms/step - loss: 0.1872 - accuracy: 0.9271 - val_loss: 0.2538 - val_accuracy: 0.8913\n",
            "Epoch 4/30\n",
            "76/76 [==============================] - 9s 123ms/step - loss: 0.1612 - accuracy: 0.9376 - val_loss: 0.2707 - val_accuracy: 0.8930\n",
            "Epoch 5/30\n",
            "76/76 [==============================] - 9s 116ms/step - loss: 0.1296 - accuracy: 0.9546 - val_loss: 0.2548 - val_accuracy: 0.8980\n",
            "Epoch 6/30\n",
            "76/76 [==============================] - 9s 115ms/step - loss: 0.1157 - accuracy: 0.9555 - val_loss: 0.2567 - val_accuracy: 0.9080\n",
            "Epoch 7/30\n",
            "76/76 [==============================] - 9s 122ms/step - loss: 0.0977 - accuracy: 0.9667 - val_loss: 0.3784 - val_accuracy: 0.8662\n",
            "Epoch 8/30\n",
            "76/76 [==============================] - 10s 133ms/step - loss: 0.1264 - accuracy: 0.9530 - val_loss: 0.2765 - val_accuracy: 0.9047\n",
            "Epoch 9/30\n",
            "76/76 [==============================] - 9s 113ms/step - loss: 0.0778 - accuracy: 0.9750 - val_loss: 0.3042 - val_accuracy: 0.9097\n",
            "Epoch 10/30\n",
            "76/76 [==============================] - 9s 125ms/step - loss: 0.0689 - accuracy: 0.9775 - val_loss: 0.2985 - val_accuracy: 0.9030\n",
            "Epoch 11/30\n",
            "76/76 [==============================] - 10s 129ms/step - loss: 0.0583 - accuracy: 0.9813 - val_loss: 0.2915 - val_accuracy: 0.9013\n",
            "Epoch 12/30\n",
            "76/76 [==============================] - 8s 110ms/step - loss: 0.0468 - accuracy: 0.9850 - val_loss: 0.3102 - val_accuracy: 0.9013\n",
            "Epoch 13/30\n",
            "76/76 [==============================] - 9s 124ms/step - loss: 0.0420 - accuracy: 0.9871 - val_loss: 0.3051 - val_accuracy: 0.9097\n",
            "Epoch 14/30\n",
            "76/76 [==============================] - 9s 121ms/step - loss: 0.0418 - accuracy: 0.9817 - val_loss: 0.3141 - val_accuracy: 0.9013\n",
            "Epoch 15/30\n",
            "76/76 [==============================] - 9s 113ms/step - loss: 0.0392 - accuracy: 0.9850 - val_loss: 0.3911 - val_accuracy: 0.9013\n",
            "Epoch 16/30\n",
            "76/76 [==============================] - 9s 116ms/step - loss: 0.0326 - accuracy: 0.9900 - val_loss: 0.3381 - val_accuracy: 0.8997\n",
            "Epoch 17/30\n",
            "76/76 [==============================] - 9s 121ms/step - loss: 0.0288 - accuracy: 0.9925 - val_loss: 0.3359 - val_accuracy: 0.9097\n",
            "Epoch 18/30\n",
            "76/76 [==============================] - 10s 126ms/step - loss: 0.0287 - accuracy: 0.9917 - val_loss: 0.3590 - val_accuracy: 0.9047\n"
          ]
        },
        {
          "output_type": "execute_result",
          "data": {
            "text/plain": [
              "<keras.src.callbacks.History at 0x7fb08afe0af0>"
            ]
          },
          "metadata": {},
          "execution_count": 13
        }
      ]
    },
    {
      "cell_type": "code",
      "source": [
        "model.evaluate(test)"
      ],
      "metadata": {
        "colab": {
          "base_uri": "https://localhost:8080/"
        },
        "id": "rRb_EZTCv4GF",
        "outputId": "e8813091-4141-4d71-ec19-f7909dd88013"
      },
      "execution_count": 14,
      "outputs": [
        {
          "output_type": "stream",
          "name": "stdout",
          "text": [
            "19/19 [==============================] - 2s 91ms/step - loss: 0.3590 - accuracy: 0.9047\n"
          ]
        },
        {
          "output_type": "execute_result",
          "data": {
            "text/plain": [
              "[0.3590434193611145, 0.9046822786331177]"
            ]
          },
          "metadata": {},
          "execution_count": 14
        }
      ]
    },
    {
      "cell_type": "code",
      "source": [],
      "metadata": {
        "id": "9ufytzLd3EGP"
      },
      "execution_count": null,
      "outputs": []
    }
  ]
}