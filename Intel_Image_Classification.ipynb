{
  "nbformat": 4,
  "nbformat_minor": 0,
  "metadata": {
    "colab": {
      "provenance": [],
      "gpuType": "T4",
      "mount_file_id": "1TeZLGDtO_3gmMDANLhMnw5BeIDJj0Aa-",
      "authorship_tag": "ABX9TyO/RlldJIs0vaJxMa/NfDD2",
      "include_colab_link": true
    },
    "kernelspec": {
      "name": "python3",
      "display_name": "Python 3"
    },
    "language_info": {
      "name": "python"
    },
    "accelerator": "GPU"
  },
  "cells": [
    {
      "cell_type": "markdown",
      "metadata": {
        "id": "view-in-github",
        "colab_type": "text"
      },
      "source": [
        "<a href=\"https://colab.research.google.com/github/ishanp404/mlprojects/blob/main/Intel_Image_Classification.ipynb\" target=\"_parent\"><img src=\"https://colab.research.google.com/assets/colab-badge.svg\" alt=\"Open In Colab\"/></a>"
      ]
    },
    {
      "cell_type": "code",
      "execution_count": 1,
      "metadata": {
        "id": "zBuaPX61fS3E"
      },
      "outputs": [],
      "source": [
        "import cv2\n",
        "import matplotlib.pyplot as plt\n",
        "import tensorflow as tf\n",
        "from tensorflow_hub import KerasLayer\n",
        "from keras.preprocessing.image import ImageDataGenerator\n",
        "from keras.models import Sequential\n",
        "from keras.layers import Dense, Conv2D, MaxPooling2D, Flatten, Activation, Dropout\n",
        "from keras.callbacks import EarlyStopping"
      ]
    },
    {
      "cell_type": "code",
      "source": [
        "img_gen = ImageDataGenerator(rescale=1/255.0,validation_split=0.2)"
      ],
      "metadata": {
        "id": "H528rEhVq3mU"
      },
      "execution_count": 2,
      "outputs": []
    },
    {
      "cell_type": "code",
      "source": [
        "train = img_gen.flow_from_directory(\n",
        "    '/content/drive/MyDrive/Data/Intel Image Dataset/',\n",
        "    target_size=input_shape[:2],\n",
        "    batch_size = 32,\n",
        "    class_mode='categorical',\n",
        "    shuffle=True,\n",
        "    subset = 'training')"
      ],
      "metadata": {
        "colab": {
          "base_uri": "https://localhost:8080/",
          "height": 0
        },
        "id": "WETU7HO1rCls",
        "outputId": "b5260d0d-f057-45a9-a34e-db20770c7b13"
      },
      "execution_count": 4,
      "outputs": [
        {
          "output_type": "stream",
          "name": "stdout",
          "text": [
            "Found 2402 images belonging to 6 classes.\n"
          ]
        }
      ]
    },
    {
      "cell_type": "code",
      "source": [
        "test = img_gen.flow_from_directory(\n",
        "    '/content/drive/MyDrive/Data/Intel Image Dataset/',\n",
        "    target_size=input_shape[:2],\n",
        "    batch_size = 32,\n",
        "    class_mode='categorical',\n",
        "    shuffle=False,\n",
        "    subset = 'validation')"
      ],
      "metadata": {
        "colab": {
          "base_uri": "https://localhost:8080/",
          "height": 0
        },
        "id": "mHq7juxGuoX4",
        "outputId": "3cd1bef4-76bc-4c94-b954-98978ca59ca2"
      },
      "execution_count": 5,
      "outputs": [
        {
          "output_type": "stream",
          "name": "stdout",
          "text": [
            "Found 598 images belonging to 6 classes.\n"
          ]
        }
      ]
    },
    {
      "cell_type": "code",
      "source": [
        "MODEL_URL = 'https://tfhub.dev/google/imagenet/mobilenet_v2_130_224/classification/5'"
      ],
      "metadata": {
        "id": "UxtnShBI2Jkj"
      },
      "execution_count": 22,
      "outputs": []
    },
    {
      "cell_type": "code",
      "source": [
        "INPUT_SHAPE = (None, 224, 224, 3)"
      ],
      "metadata": {
        "id": "x_npKMJr2Lv1"
      },
      "execution_count": 23,
      "outputs": []
    },
    {
      "cell_type": "code",
      "source": [
        "model = Sequential([\n",
        "    KerasLayer(MODEL_URL)\n",
        "])\n",
        "model.add(Flatten())\n",
        "model.add(Dense(128))\n",
        "model.add(Activation('relu'))\n",
        "\n",
        "model.add(Dropout(0.3))\n",
        "model.add(Dense(6))\n",
        "model.add(Activation('softmax'))\n",
        "\n",
        "model.compile(loss='categorical_crossentropy',\n",
        "              optimizer='adam',\n",
        "              metrics=['accuracy'])"
      ],
      "metadata": {
        "id": "Q-zSoC3JvJt4"
      },
      "execution_count": 29,
      "outputs": []
    },
    {
      "cell_type": "code",
      "source": [
        "model.build(INPUT_SHAPE)"
      ],
      "metadata": {
        "id": "94151rfT2N2K"
      },
      "execution_count": 30,
      "outputs": []
    },
    {
      "cell_type": "code",
      "source": [
        "model.summary()"
      ],
      "metadata": {
        "colab": {
          "base_uri": "https://localhost:8080/"
        },
        "id": "lDS7oABovhYQ",
        "outputId": "71d03005-abf2-4076-e57b-67e41aea5afb"
      },
      "execution_count": 31,
      "outputs": [
        {
          "output_type": "stream",
          "name": "stdout",
          "text": [
            "Model: \"sequential_4\"\n",
            "_________________________________________________________________\n",
            " Layer (type)                Output Shape              Param #   \n",
            "=================================================================\n",
            " keras_layer_2 (KerasLayer)  (None, 1001)              5432713   \n",
            "                                                                 \n",
            " flatten_4 (Flatten)         (None, 1001)              0         \n",
            "                                                                 \n",
            " dense_8 (Dense)             (None, 128)               128256    \n",
            "                                                                 \n",
            " activation_8 (Activation)   (None, 128)               0         \n",
            "                                                                 \n",
            " dropout_4 (Dropout)         (None, 128)               0         \n",
            "                                                                 \n",
            " dense_9 (Dense)             (None, 6)                 774       \n",
            "                                                                 \n",
            " activation_9 (Activation)   (None, 6)                 0         \n",
            "                                                                 \n",
            "=================================================================\n",
            "Total params: 5561743 (21.22 MB)\n",
            "Trainable params: 129030 (504.02 KB)\n",
            "Non-trainable params: 5432713 (20.72 MB)\n",
            "_________________________________________________________________\n"
          ]
        }
      ]
    },
    {
      "cell_type": "code",
      "source": [
        "ec = EarlyStopping(monitor='val_loss', patience=15)"
      ],
      "metadata": {
        "id": "9X_uAu8BvjOE"
      },
      "execution_count": 35,
      "outputs": []
    },
    {
      "cell_type": "code",
      "source": [
        "model.fit(train, validation_data=test, epochs = 30, callbacks=[ec])"
      ],
      "metadata": {
        "colab": {
          "base_uri": "https://localhost:8080/"
        },
        "id": "KWnCqQP4vrt6",
        "outputId": "7121eb15-77ae-48d8-c75a-f8487ee8ee25"
      },
      "execution_count": 36,
      "outputs": [
        {
          "output_type": "stream",
          "name": "stdout",
          "text": [
            "Epoch 1/30\n",
            "76/76 [==============================] - 9s 121ms/step - loss: 0.0419 - accuracy: 0.9838 - val_loss: 0.3359 - val_accuracy: 0.9064\n",
            "Epoch 2/30\n",
            "76/76 [==============================] - 9s 114ms/step - loss: 0.0413 - accuracy: 0.9863 - val_loss: 0.3629 - val_accuracy: 0.8913\n",
            "Epoch 3/30\n",
            "76/76 [==============================] - 9s 113ms/step - loss: 0.0452 - accuracy: 0.9817 - val_loss: 0.3326 - val_accuracy: 0.8980\n",
            "Epoch 4/30\n",
            "76/76 [==============================] - 9s 123ms/step - loss: 0.0322 - accuracy: 0.9892 - val_loss: 0.3854 - val_accuracy: 0.8930\n",
            "Epoch 5/30\n",
            "76/76 [==============================] - 9s 125ms/step - loss: 0.0286 - accuracy: 0.9904 - val_loss: 0.3806 - val_accuracy: 0.8930\n",
            "Epoch 6/30\n",
            "76/76 [==============================] - 8s 108ms/step - loss: 0.0203 - accuracy: 0.9950 - val_loss: 0.3796 - val_accuracy: 0.9013\n",
            "Epoch 7/30\n",
            "76/76 [==============================] - 9s 121ms/step - loss: 0.0215 - accuracy: 0.9938 - val_loss: 0.3832 - val_accuracy: 0.9147\n",
            "Epoch 8/30\n",
            "76/76 [==============================] - 9s 118ms/step - loss: 0.0205 - accuracy: 0.9938 - val_loss: 0.4022 - val_accuracy: 0.9114\n",
            "Epoch 9/30\n",
            "76/76 [==============================] - 9s 115ms/step - loss: 0.0238 - accuracy: 0.9892 - val_loss: 0.4398 - val_accuracy: 0.9064\n",
            "Epoch 10/30\n",
            "76/76 [==============================] - 9s 115ms/step - loss: 0.0189 - accuracy: 0.9946 - val_loss: 0.4427 - val_accuracy: 0.8997\n",
            "Epoch 11/30\n",
            "76/76 [==============================] - 9s 116ms/step - loss: 0.0204 - accuracy: 0.9921 - val_loss: 0.4001 - val_accuracy: 0.9064\n",
            "Epoch 12/30\n",
            "76/76 [==============================] - 9s 114ms/step - loss: 0.0213 - accuracy: 0.9925 - val_loss: 0.4913 - val_accuracy: 0.8963\n",
            "Epoch 13/30\n",
            "76/76 [==============================] - 9s 122ms/step - loss: 0.0170 - accuracy: 0.9946 - val_loss: 0.4255 - val_accuracy: 0.8963\n",
            "Epoch 14/30\n",
            "76/76 [==============================] - 9s 114ms/step - loss: 0.0197 - accuracy: 0.9938 - val_loss: 0.5339 - val_accuracy: 0.8896\n",
            "Epoch 15/30\n",
            "76/76 [==============================] - 9s 113ms/step - loss: 0.0215 - accuracy: 0.9929 - val_loss: 0.4577 - val_accuracy: 0.9030\n",
            "Epoch 16/30\n",
            "76/76 [==============================] - 9s 116ms/step - loss: 0.0191 - accuracy: 0.9938 - val_loss: 0.4426 - val_accuracy: 0.8946\n",
            "Epoch 17/30\n",
            "76/76 [==============================] - 9s 121ms/step - loss: 0.0211 - accuracy: 0.9946 - val_loss: 0.4738 - val_accuracy: 0.9013\n",
            "Epoch 18/30\n",
            "76/76 [==============================] - 8s 108ms/step - loss: 0.0230 - accuracy: 0.9933 - val_loss: 0.4270 - val_accuracy: 0.9030\n"
          ]
        },
        {
          "output_type": "execute_result",
          "data": {
            "text/plain": [
              "<keras.src.callbacks.History at 0x7c8bcb0435e0>"
            ]
          },
          "metadata": {},
          "execution_count": 36
        }
      ]
    },
    {
      "cell_type": "code",
      "source": [
        "model.evaluate(test)"
      ],
      "metadata": {
        "colab": {
          "base_uri": "https://localhost:8080/"
        },
        "id": "rRb_EZTCv4GF",
        "outputId": "853c2fbe-e5b3-410e-8c12-d8db43c89306"
      },
      "execution_count": 37,
      "outputs": [
        {
          "output_type": "stream",
          "name": "stdout",
          "text": [
            "19/19 [==============================] - 2s 91ms/step - loss: 0.4270 - accuracy: 0.9030\n"
          ]
        },
        {
          "output_type": "execute_result",
          "data": {
            "text/plain": [
              "[0.42700180411338806, 0.9030100107192993]"
            ]
          },
          "metadata": {},
          "execution_count": 37
        }
      ]
    },
    {
      "cell_type": "code",
      "source": [],
      "metadata": {
        "id": "9ufytzLd3EGP"
      },
      "execution_count": null,
      "outputs": []
    }
  ]
}