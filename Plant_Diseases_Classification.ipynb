{
  "nbformat": 4,
  "nbformat_minor": 0,
  "metadata": {
    "colab": {
      "provenance": [],
      "gpuType": "T4",
      "mount_file_id": "1nYMukIw9779EayYif4EjR0aUbiBFTnzO",
      "authorship_tag": "ABX9TyOy1/PtAuVf/PgLra3JZ+B9",
      "include_colab_link": true
    },
    "kernelspec": {
      "name": "python3",
      "display_name": "Python 3"
    },
    "language_info": {
      "name": "python"
    },
    "accelerator": "GPU"
  },
  "cells": [
    {
      "cell_type": "markdown",
      "metadata": {
        "id": "view-in-github",
        "colab_type": "text"
      },
      "source": [
        "<a href=\"https://colab.research.google.com/github/ishanp404/mlprojects/blob/main/Plant_Diseases_Classification.ipynb\" target=\"_parent\"><img src=\"https://colab.research.google.com/assets/colab-badge.svg\" alt=\"Open In Colab\"/></a>"
      ]
    },
    {
      "cell_type": "code",
      "execution_count": 1,
      "metadata": {
        "id": "rJpNCAOCFIU0"
      },
      "outputs": [],
      "source": [
        "import tensorflow as tf\n",
        "from tensorflow_hub import KerasLayer\n",
        "from keras.models import Sequential\n",
        "from keras.layers import Conv2D, MaxPool2D, Flatten, Activation, Dropout, Dense\n",
        "from keras.preprocessing.image import ImageDataGenerator\n",
        "from keras.callbacks import EarlyStopping"
      ]
    },
    {
      "cell_type": "code",
      "source": [
        "imgen = ImageDataGenerator(validation_split=0.2, rescale = 1/255.0)"
      ],
      "metadata": {
        "id": "EUQSOQL5HIPE"
      },
      "execution_count": 2,
      "outputs": []
    },
    {
      "cell_type": "code",
      "source": [
        "input_shape = (224,224,3)"
      ],
      "metadata": {
        "id": "R1aA8se05QTT"
      },
      "execution_count": 3,
      "outputs": []
    },
    {
      "cell_type": "code",
      "source": [
        "train = imgen.flow_from_directory(\n",
        "    '/content/drive/MyDrive/Plant_images_pianalytix/',\n",
        "    batch_size=32,\n",
        "    target_size = input_shape[:2],\n",
        "    class_mode='categorical',\n",
        "    subset='training'\n",
        ")"
      ],
      "metadata": {
        "colab": {
          "base_uri": "https://localhost:8080/"
        },
        "id": "iVIvEEBs4IWZ",
        "outputId": "403b0c36-0b57-4e90-8f2e-5daaead298cf"
      },
      "execution_count": 4,
      "outputs": [
        {
          "output_type": "stream",
          "name": "stdout",
          "text": [
            "Found 720 images belonging to 3 classes.\n"
          ]
        }
      ]
    },
    {
      "cell_type": "code",
      "source": [
        "test = imgen.flow_from_directory(\n",
        "    '/content/drive/MyDrive/Plant_images_pianalytix/',\n",
        "    batch_size=32,\n",
        "    target_size = input_shape[:2],\n",
        "    class_mode='categorical',\n",
        "    subset='validation'\n",
        ")"
      ],
      "metadata": {
        "colab": {
          "base_uri": "https://localhost:8080/"
        },
        "id": "6ELF55Wx4eFu",
        "outputId": "37bf74ed-94d9-437d-8e40-9c6b3d07a0c1"
      },
      "execution_count": 5,
      "outputs": [
        {
          "output_type": "stream",
          "name": "stdout",
          "text": [
            "Found 180 images belonging to 3 classes.\n"
          ]
        }
      ]
    },
    {
      "cell_type": "code",
      "source": [
        "MODEL_URL = 'https://tfhub.dev/google/imagenet/mobilenet_v2_130_224/classification/5'"
      ],
      "metadata": {
        "id": "_zn_mNPm4jzp"
      },
      "execution_count": 6,
      "outputs": []
    },
    {
      "cell_type": "code",
      "source": [
        "INPUT_SHAPE = (None, 224,224,3)"
      ],
      "metadata": {
        "id": "lAFqYOA05J7w"
      },
      "execution_count": 7,
      "outputs": []
    },
    {
      "cell_type": "code",
      "source": [
        "model = Sequential()\n",
        "\n",
        "model.add(Conv2D(filters=32, kernel_size = 3, padding='same', activation='relu', input_shape=(224,224,3)))\n",
        "model.add(MaxPool2D(pool_size=2, strides=2, padding='valid'))\n",
        "\n",
        "model.add(Conv2D(filters=64, kernel_size = 3, padding='same', activation='relu'))\n",
        "model.add(MaxPool2D(pool_size=2, strides=2, padding='valid'))\n",
        "\n",
        "model.add(Conv2D(filters=128, kernel_size = 3, padding='same', activation='relu'))\n",
        "model.add(MaxPool2D(pool_size=2, strides=2, padding='valid'))\n",
        "\n",
        "model.add(Flatten())\n",
        "model.add(Dropout(0.4))\n",
        "\n",
        "model.add(Dense(units=128, activation='relu'))\n",
        "model.add(Dense(units=3, activation='softmax'))"
      ],
      "metadata": {
        "id": "4e2jHCuH41pB"
      },
      "execution_count": 8,
      "outputs": []
    },
    {
      "cell_type": "code",
      "source": [
        "from keras.metrics import Precision, Recall, AUC\n",
        "\n",
        "model.compile(\n",
        "    loss='categorical_crossentropy',\n",
        "    optimizer='adam',\n",
        "    metrics=['accuracy', Precision(), Recall(), AUC()]\n",
        ")\n"
      ],
      "metadata": {
        "id": "aJ0v_WGc572w"
      },
      "execution_count": 9,
      "outputs": []
    },
    {
      "cell_type": "code",
      "source": [
        "ec = EarlyStopping(monitor='val_loss', patience=10)"
      ],
      "metadata": {
        "id": "-GgTJjg46SF7"
      },
      "execution_count": 10,
      "outputs": []
    },
    {
      "cell_type": "code",
      "source": [
        "model.fit(train, validation_data=test, epochs=30, callbacks=[ec])"
      ],
      "metadata": {
        "colab": {
          "base_uri": "https://localhost:8080/"
        },
        "id": "b_7_Clw16MVn",
        "outputId": "5261b610-ef95-478f-de01-bb74cd2a46e1"
      },
      "execution_count": 11,
      "outputs": [
        {
          "output_type": "stream",
          "name": "stdout",
          "text": [
            "Epoch 1/30\n",
            "23/23 [==============================] - 15s 193ms/step - loss: 1.2196 - accuracy: 0.7514 - precision: 0.7993 - recall: 0.6306 - auc: 0.8751 - val_loss: 0.1208 - val_accuracy: 0.9889 - val_precision: 0.9889 - val_recall: 0.9889 - val_auc: 0.9994\n",
            "Epoch 2/30\n",
            "23/23 [==============================] - 3s 125ms/step - loss: 0.0602 - accuracy: 0.9875 - precision: 0.9875 - recall: 0.9875 - auc: 0.9982 - val_loss: 0.0233 - val_accuracy: 0.9889 - val_precision: 0.9889 - val_recall: 0.9889 - val_auc: 0.9999\n",
            "Epoch 3/30\n",
            "23/23 [==============================] - 3s 121ms/step - loss: 0.0305 - accuracy: 0.9944 - precision: 0.9944 - recall: 0.9944 - auc: 0.9992 - val_loss: 0.0131 - val_accuracy: 0.9944 - val_precision: 0.9944 - val_recall: 0.9944 - val_auc: 1.0000\n",
            "Epoch 4/30\n",
            "23/23 [==============================] - 3s 138ms/step - loss: 0.0197 - accuracy: 0.9972 - precision: 0.9972 - recall: 0.9972 - auc: 0.9992 - val_loss: 0.0084 - val_accuracy: 1.0000 - val_precision: 1.0000 - val_recall: 1.0000 - val_auc: 1.0000\n",
            "Epoch 5/30\n",
            "23/23 [==============================] - 3s 130ms/step - loss: 0.0164 - accuracy: 0.9972 - precision: 0.9972 - recall: 0.9972 - auc: 0.9992 - val_loss: 0.0102 - val_accuracy: 1.0000 - val_precision: 1.0000 - val_recall: 1.0000 - val_auc: 1.0000\n",
            "Epoch 6/30\n",
            "23/23 [==============================] - 3s 115ms/step - loss: 0.0073 - accuracy: 0.9986 - precision: 0.9986 - recall: 0.9986 - auc: 1.0000 - val_loss: 0.0064 - val_accuracy: 1.0000 - val_precision: 1.0000 - val_recall: 1.0000 - val_auc: 1.0000\n",
            "Epoch 7/30\n",
            "23/23 [==============================] - 3s 119ms/step - loss: 0.0018 - accuracy: 1.0000 - precision: 1.0000 - recall: 1.0000 - auc: 1.0000 - val_loss: 0.0201 - val_accuracy: 0.9944 - val_precision: 0.9944 - val_recall: 0.9944 - val_auc: 0.9999\n",
            "Epoch 8/30\n",
            "23/23 [==============================] - 3s 141ms/step - loss: 6.9905e-04 - accuracy: 1.0000 - precision: 1.0000 - recall: 1.0000 - auc: 1.0000 - val_loss: 0.0014 - val_accuracy: 1.0000 - val_precision: 1.0000 - val_recall: 1.0000 - val_auc: 1.0000\n",
            "Epoch 9/30\n",
            "23/23 [==============================] - 3s 119ms/step - loss: 0.0010 - accuracy: 1.0000 - precision: 1.0000 - recall: 1.0000 - auc: 1.0000 - val_loss: 0.0087 - val_accuracy: 0.9944 - val_precision: 0.9944 - val_recall: 0.9944 - val_auc: 1.0000\n",
            "Epoch 10/30\n",
            "23/23 [==============================] - 3s 117ms/step - loss: 0.0017 - accuracy: 0.9986 - precision: 0.9986 - recall: 0.9986 - auc: 1.0000 - val_loss: 0.0174 - val_accuracy: 0.9889 - val_precision: 0.9889 - val_recall: 0.9889 - val_auc: 0.9999\n",
            "Epoch 11/30\n",
            "23/23 [==============================] - 3s 117ms/step - loss: 1.0272e-04 - accuracy: 1.0000 - precision: 1.0000 - recall: 1.0000 - auc: 1.0000 - val_loss: 0.0112 - val_accuracy: 0.9889 - val_precision: 0.9889 - val_recall: 0.9889 - val_auc: 0.9999\n",
            "Epoch 12/30\n",
            "23/23 [==============================] - 3s 123ms/step - loss: 6.9638e-05 - accuracy: 1.0000 - precision: 1.0000 - recall: 1.0000 - auc: 1.0000 - val_loss: 0.0130 - val_accuracy: 0.9889 - val_precision: 0.9889 - val_recall: 0.9889 - val_auc: 0.9999\n",
            "Epoch 13/30\n",
            "23/23 [==============================] - 3s 123ms/step - loss: 4.7693e-05 - accuracy: 1.0000 - precision: 1.0000 - recall: 1.0000 - auc: 1.0000 - val_loss: 0.0120 - val_accuracy: 0.9889 - val_precision: 0.9889 - val_recall: 0.9889 - val_auc: 0.9999\n",
            "Epoch 14/30\n",
            "23/23 [==============================] - 3s 111ms/step - loss: 3.9164e-05 - accuracy: 1.0000 - precision: 1.0000 - recall: 1.0000 - auc: 1.0000 - val_loss: 0.0108 - val_accuracy: 0.9889 - val_precision: 0.9889 - val_recall: 0.9889 - val_auc: 0.9999\n",
            "Epoch 15/30\n",
            "23/23 [==============================] - 3s 115ms/step - loss: 3.0568e-05 - accuracy: 1.0000 - precision: 1.0000 - recall: 1.0000 - auc: 1.0000 - val_loss: 0.0131 - val_accuracy: 0.9889 - val_precision: 0.9889 - val_recall: 0.9889 - val_auc: 0.9999\n",
            "Epoch 16/30\n",
            "23/23 [==============================] - 3s 120ms/step - loss: 2.3127e-05 - accuracy: 1.0000 - precision: 1.0000 - recall: 1.0000 - auc: 1.0000 - val_loss: 0.0139 - val_accuracy: 0.9889 - val_precision: 0.9889 - val_recall: 0.9889 - val_auc: 0.9999\n",
            "Epoch 17/30\n",
            "23/23 [==============================] - 4s 155ms/step - loss: 2.8858e-05 - accuracy: 1.0000 - precision: 1.0000 - recall: 1.0000 - auc: 1.0000 - val_loss: 0.0129 - val_accuracy: 0.9889 - val_precision: 0.9889 - val_recall: 0.9889 - val_auc: 0.9999\n",
            "Epoch 18/30\n",
            "23/23 [==============================] - 4s 150ms/step - loss: 2.3435e-05 - accuracy: 1.0000 - precision: 1.0000 - recall: 1.0000 - auc: 1.0000 - val_loss: 0.0102 - val_accuracy: 0.9889 - val_precision: 0.9889 - val_recall: 0.9889 - val_auc: 0.9999\n"
          ]
        },
        {
          "output_type": "execute_result",
          "data": {
            "text/plain": [
              "<keras.src.callbacks.History at 0x7a4d0c2de740>"
            ]
          },
          "metadata": {},
          "execution_count": 11
        }
      ]
    },
    {
      "cell_type": "code",
      "source": [
        "model.evaluate(test)"
      ],
      "metadata": {
        "colab": {
          "base_uri": "https://localhost:8080/"
        },
        "id": "BY16bofb6j6m",
        "outputId": "13496d41-eb41-4b45-d494-28c634ee5bda"
      },
      "execution_count": 12,
      "outputs": [
        {
          "output_type": "stream",
          "name": "stdout",
          "text": [
            "6/6 [==============================] - 1s 81ms/step - loss: 0.0102 - accuracy: 0.9889 - precision: 0.9889 - recall: 0.9889 - auc: 0.9999\n"
          ]
        },
        {
          "output_type": "execute_result",
          "data": {
            "text/plain": [
              "[0.010194470174610615,\n",
              " 0.9888888597488403,\n",
              " 0.9888888597488403,\n",
              " 0.9888888597488403,\n",
              " 0.9999382495880127]"
            ]
          },
          "metadata": {},
          "execution_count": 12
        }
      ]
    },
    {
      "cell_type": "code",
      "source": [],
      "metadata": {
        "id": "edSw3VGo96Ew"
      },
      "execution_count": 13,
      "outputs": []
    }
  ]
}