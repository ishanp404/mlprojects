{
 "cells": [
  {
   "cell_type": "code",
   "execution_count": 2,
   "id": "cc528ee5",
   "metadata": {
    "id": "cc528ee5"
   },
   "outputs": [],
   "source": [
    "import pandas as pd\n",
    "from sklearn.model_selection import train_test_split\n",
    "from sklearn.preprocessing import RobustScaler\n",
    "from xgboost import XGBClassifier\n",
    "from sklearn.metrics import accuracy_score, precision_score, recall_score, f1_score\n",
    "from statsmodels.stats.outliers_influence import variance_inflation_factor"
   ]
  },
  {
   "cell_type": "code",
   "execution_count": 3,
   "id": "aa0aef80",
   "metadata": {
    "id": "aa0aef80"
   },
   "outputs": [],
   "source": [
    "df = pd.read_csv('/content/drive/MyDrive/Fraud.csv')"
   ]
  },
  {
   "cell_type": "code",
   "execution_count": 4,
   "id": "168297f7",
   "metadata": {
    "colab": {
     "base_uri": "https://localhost:8080/"
    },
    "id": "168297f7",
    "outputId": "8da4f2d7-13f2-484c-e52d-9c374a274b42"
   },
   "outputs": [
    {
     "data": {
      "text/plain": [
       "step              0\n",
       "type              0\n",
       "amount            0\n",
       "nameOrig          0\n",
       "oldbalanceOrg     0\n",
       "newbalanceOrig    0\n",
       "nameDest          0\n",
       "oldbalanceDest    0\n",
       "newbalanceDest    0\n",
       "isFraud           0\n",
       "isFlaggedFraud    0\n",
       "dtype: int64"
      ]
     },
     "execution_count": 4,
     "metadata": {},
     "output_type": "execute_result"
    }
   ],
   "source": [
    "df.isnull().sum()"
   ]
  },
  {
   "cell_type": "markdown",
   "id": "6fa995ea",
   "metadata": {
    "id": "6fa995ea"
   },
   "source": [
    "#### No null values in the dataset"
   ]
  },
  {
   "cell_type": "code",
   "execution_count": 5,
   "id": "1a4aa4a2",
   "metadata": {
    "id": "1a4aa4a2"
   },
   "outputs": [],
   "source": [
    "df['nameOrigtype'] = [x[0] for x in df.nameOrig]"
   ]
  },
  {
   "cell_type": "code",
   "execution_count": 6,
   "id": "f99096b4",
   "metadata": {
    "id": "f99096b4"
   },
   "outputs": [],
   "source": [
    "df['nameDesttype'] = [x[0] for x in df.nameDest]"
   ]
  },
  {
   "cell_type": "code",
   "execution_count": 7,
   "id": "38f0f50b",
   "metadata": {
    "id": "38f0f50b"
   },
   "outputs": [],
   "source": [
    "df = df.drop(columns=['nameOrig', 'nameDest'])"
   ]
  },
  {
   "cell_type": "code",
   "execution_count": 8,
   "id": "76fd6871",
   "metadata": {
    "id": "76fd6871"
   },
   "outputs": [],
   "source": [
    "df1 = pd.get_dummies(df, drop_first=True)"
   ]
  },
  {
   "cell_type": "code",
   "execution_count": 9,
   "id": "e9c653c3",
   "metadata": {
    "colab": {
     "base_uri": "https://localhost:8080/"
    },
    "id": "e9c653c3",
    "outputId": "75f645ae-e10e-4784-b6d1-03c8b8d5bb53"
   },
   "outputs": [
    {
     "name": "stderr",
     "output_type": "stream",
     "text": [
      "/usr/local/lib/python3.10/dist-packages/statsmodels/stats/outliers_influence.py:198: RuntimeWarning: divide by zero encountered in double_scalars\n",
      "  vif = 1. / (1. - r_squared_i)\n"
     ]
    },
    {
     "name": "stdout",
     "output_type": "stream",
     "text": [
      "VIF:\n",
      "           Feature         VIF\n",
      "0             step    3.008689\n",
      "1           amount    4.215690\n",
      "2    oldbalanceOrg  502.777063\n",
      "3   newbalanceOrig  508.201916\n",
      "4   oldbalanceDest   72.398423\n",
      "5   newbalanceDest   84.055073\n",
      "6   isFlaggedFraud    1.000571\n",
      "7    type_CASH_OUT    1.870071\n",
      "8       type_DEBIT    1.016118\n",
      "9     type_PAYMENT         inf\n",
      "10   type_TRANSFER    1.406326\n",
      "11  nameDesttype_M         inf\n"
     ]
    }
   ],
   "source": [
    "X = df1.drop(columns='isFraud')\n",
    "vif = pd.DataFrame()\n",
    "vif[\"Feature\"] = X.columns\n",
    "vif[\"VIF\"] = [variance_inflation_factor(X.values, i) for i in range(X.shape[1])]\n",
    "\n",
    "print(\"VIF:\")\n",
    "print(vif)"
   ]
  },
  {
   "cell_type": "markdown",
   "id": "016f5fc4",
   "metadata": {
    "id": "016f5fc4"
   },
   "source": [
    "#### oldbalanceOrg, oldbalanceDest, newbalanceDest and newbalanceOrig have relatively high VIF values, suggesting that they might be correlated with each other which they are as change in one changes the other.So, removing them would be useless as balance of both sides can be a major factor in checking fraud theoretically.\n",
    "#### type_PAYMENT, type_TRANSFER, and nameDesttype_M have extremely high VIF values (inf). This suggests that these variables are highly correlated with other variables in the dataset and may indicate multicollinearity issues but we will be also check correlation because these are categorical variables which have been converted so their high vif may have other reasons."
   ]
  },
  {
   "cell_type": "code",
   "execution_count": 10,
   "id": "7fc33cd2",
   "metadata": {
    "colab": {
     "base_uri": "https://localhost:8080/"
    },
    "id": "7fc33cd2",
    "outputId": "930fe617-1d12-4e59-8046-0cb455667416"
   },
   "outputs": [
    {
     "data": {
      "text/plain": [
       "step              0.031578\n",
       "amount            0.076688\n",
       "oldbalanceOrg     0.010154\n",
       "newbalanceOrig   -0.008148\n",
       "oldbalanceDest   -0.005885\n",
       "newbalanceDest    0.000535\n",
       "isFraud           1.000000\n",
       "isFlaggedFraud    0.044109\n",
       "type_CASH_OUT     0.011256\n",
       "type_DEBIT       -0.002911\n",
       "type_PAYMENT     -0.025697\n",
       "type_TRANSFER     0.053869\n",
       "nameDesttype_M   -0.025697\n",
       "Name: isFraud, dtype: float64"
      ]
     },
     "execution_count": 10,
     "metadata": {},
     "output_type": "execute_result"
    }
   ],
   "source": [
    "df1.corr().isFraud"
   ]
  },
  {
   "cell_type": "markdown",
   "id": "1f265752",
   "metadata": {
    "id": "1f265752"
   },
   "source": [
    "#### type_TRANSFER has a moderate positive correlation with isFraud, indicating that transactions of type \"TRANSFER\" are more likely to be fraudulent.\n",
    "#### amount has a moderate positive correlation with isFraud, suggesting that larger transactions are slightly more likely to be fraudulent.\n",
    "#### type_PAYMENT and nameDesttype_M have weak negative correlations with isFraud, indicating that transactions of type \"PAYMENT\" and destination type \"M\" are slightly less likely to be fraudulent."
   ]
  },
  {
   "cell_type": "code",
   "execution_count": 11,
   "id": "e0d8bf79",
   "metadata": {
    "id": "e0d8bf79"
   },
   "outputs": [],
   "source": [
    "df1['DestBalance_Change'] = df1['newbalanceDest']-df1['oldbalanceDest']\n",
    "df1.drop(columns=['oldbalanceOrg','oldbalanceDest','newbalanceDest'],inplace=True)"
   ]
  },
  {
   "cell_type": "code",
   "execution_count": 12,
   "id": "de22f204",
   "metadata": {
    "colab": {
     "base_uri": "https://localhost:8080/",
     "height": 443
    },
    "id": "de22f204",
    "outputId": "5d877cec-22a2-437a-a4b8-2d9fcb7d49f7"
   },
   "outputs": [
    {
     "data": {
      "text/html": [
       "\n",
       "  <div id=\"df-ebe299f8-6f6d-4792-8e76-5f0bbb2187ce\" class=\"colab-df-container\">\n",
       "    <div>\n",
       "<style scoped>\n",
       "    .dataframe tbody tr th:only-of-type {\n",
       "        vertical-align: middle;\n",
       "    }\n",
       "\n",
       "    .dataframe tbody tr th {\n",
       "        vertical-align: top;\n",
       "    }\n",
       "\n",
       "    .dataframe thead th {\n",
       "        text-align: right;\n",
       "    }\n",
       "</style>\n",
       "<table border=\"1\" class=\"dataframe\">\n",
       "  <thead>\n",
       "    <tr style=\"text-align: right;\">\n",
       "      <th></th>\n",
       "      <th>step</th>\n",
       "      <th>amount</th>\n",
       "      <th>newbalanceOrig</th>\n",
       "      <th>isFraud</th>\n",
       "      <th>isFlaggedFraud</th>\n",
       "      <th>type_CASH_OUT</th>\n",
       "      <th>type_DEBIT</th>\n",
       "      <th>type_PAYMENT</th>\n",
       "      <th>type_TRANSFER</th>\n",
       "      <th>nameDesttype_M</th>\n",
       "      <th>DestBalance_Change</th>\n",
       "    </tr>\n",
       "  </thead>\n",
       "  <tbody>\n",
       "    <tr>\n",
       "      <th>0</th>\n",
       "      <td>1</td>\n",
       "      <td>-0.332932</td>\n",
       "      <td>1.111175</td>\n",
       "      <td>0</td>\n",
       "      <td>0</td>\n",
       "      <td>0</td>\n",
       "      <td>0</td>\n",
       "      <td>1</td>\n",
       "      <td>0</td>\n",
       "      <td>1</td>\n",
       "      <td>0.000000</td>\n",
       "    </tr>\n",
       "    <tr>\n",
       "      <th>1</th>\n",
       "      <td>1</td>\n",
       "      <td>-0.373762</td>\n",
       "      <td>0.134375</td>\n",
       "      <td>0</td>\n",
       "      <td>0</td>\n",
       "      <td>0</td>\n",
       "      <td>0</td>\n",
       "      <td>1</td>\n",
       "      <td>0</td>\n",
       "      <td>1</td>\n",
       "      <td>0.000000</td>\n",
       "    </tr>\n",
       "    <tr>\n",
       "      <th>2</th>\n",
       "      <td>1</td>\n",
       "      <td>-0.382380</td>\n",
       "      <td>0.000000</td>\n",
       "      <td>1</td>\n",
       "      <td>0</td>\n",
       "      <td>0</td>\n",
       "      <td>0</td>\n",
       "      <td>0</td>\n",
       "      <td>1</td>\n",
       "      <td>0</td>\n",
       "      <td>0.000000</td>\n",
       "    </tr>\n",
       "    <tr>\n",
       "      <th>3</th>\n",
       "      <td>1</td>\n",
       "      <td>-0.382380</td>\n",
       "      <td>0.000000</td>\n",
       "      <td>1</td>\n",
       "      <td>0</td>\n",
       "      <td>1</td>\n",
       "      <td>0</td>\n",
       "      <td>0</td>\n",
       "      <td>0</td>\n",
       "      <td>0</td>\n",
       "      <td>-0.142061</td>\n",
       "    </tr>\n",
       "    <tr>\n",
       "      <th>4</th>\n",
       "      <td>1</td>\n",
       "      <td>-0.323571</td>\n",
       "      <td>0.207169</td>\n",
       "      <td>0</td>\n",
       "      <td>0</td>\n",
       "      <td>0</td>\n",
       "      <td>0</td>\n",
       "      <td>1</td>\n",
       "      <td>0</td>\n",
       "      <td>1</td>\n",
       "      <td>0.000000</td>\n",
       "    </tr>\n",
       "    <tr>\n",
       "      <th>...</th>\n",
       "      <td>...</td>\n",
       "      <td>...</td>\n",
       "      <td>...</td>\n",
       "      <td>...</td>\n",
       "      <td>...</td>\n",
       "      <td>...</td>\n",
       "      <td>...</td>\n",
       "      <td>...</td>\n",
       "      <td>...</td>\n",
       "      <td>...</td>\n",
       "      <td>...</td>\n",
       "    </tr>\n",
       "    <tr>\n",
       "      <th>6362615</th>\n",
       "      <td>743</td>\n",
       "      <td>1.355693</td>\n",
       "      <td>0.000000</td>\n",
       "      <td>1</td>\n",
       "      <td>0</td>\n",
       "      <td>1</td>\n",
       "      <td>0</td>\n",
       "      <td>0</td>\n",
       "      <td>0</td>\n",
       "      <td>0</td>\n",
       "      <td>2.278134</td>\n",
       "    </tr>\n",
       "    <tr>\n",
       "      <th>6362616</th>\n",
       "      <td>743</td>\n",
       "      <td>31.927899</td>\n",
       "      <td>0.000000</td>\n",
       "      <td>1</td>\n",
       "      <td>0</td>\n",
       "      <td>0</td>\n",
       "      <td>0</td>\n",
       "      <td>0</td>\n",
       "      <td>1</td>\n",
       "      <td>0</td>\n",
       "      <td>0.000000</td>\n",
       "    </tr>\n",
       "    <tr>\n",
       "      <th>6362617</th>\n",
       "      <td>743</td>\n",
       "      <td>31.927899</td>\n",
       "      <td>0.000000</td>\n",
       "      <td>1</td>\n",
       "      <td>0</td>\n",
       "      <td>1</td>\n",
       "      <td>0</td>\n",
       "      <td>0</td>\n",
       "      <td>0</td>\n",
       "      <td>0</td>\n",
       "      <td>42.328502</td>\n",
       "    </tr>\n",
       "    <tr>\n",
       "      <th>6362618</th>\n",
       "      <td>743</td>\n",
       "      <td>3.968274</td>\n",
       "      <td>0.000000</td>\n",
       "      <td>1</td>\n",
       "      <td>0</td>\n",
       "      <td>0</td>\n",
       "      <td>0</td>\n",
       "      <td>0</td>\n",
       "      <td>1</td>\n",
       "      <td>0</td>\n",
       "      <td>0.000000</td>\n",
       "    </tr>\n",
       "    <tr>\n",
       "      <th>6362619</th>\n",
       "      <td>743</td>\n",
       "      <td>3.968274</td>\n",
       "      <td>0.000000</td>\n",
       "      <td>1</td>\n",
       "      <td>0</td>\n",
       "      <td>1</td>\n",
       "      <td>0</td>\n",
       "      <td>0</td>\n",
       "      <td>0</td>\n",
       "      <td>0</td>\n",
       "      <td>5.700681</td>\n",
       "    </tr>\n",
       "  </tbody>\n",
       "</table>\n",
       "<p>6362620 rows × 11 columns</p>\n",
       "</div>\n",
       "    <div class=\"colab-df-buttons\">\n",
       "\n",
       "  <div class=\"colab-df-container\">\n",
       "    <button class=\"colab-df-convert\" onclick=\"convertToInteractive('df-ebe299f8-6f6d-4792-8e76-5f0bbb2187ce')\"\n",
       "            title=\"Convert this dataframe to an interactive table.\"\n",
       "            style=\"display:none;\">\n",
       "\n",
       "  <svg xmlns=\"http://www.w3.org/2000/svg\" height=\"24px\" viewBox=\"0 -960 960 960\">\n",
       "    <path d=\"M120-120v-720h720v720H120Zm60-500h600v-160H180v160Zm220 220h160v-160H400v160Zm0 220h160v-160H400v160ZM180-400h160v-160H180v160Zm440 0h160v-160H620v160ZM180-180h160v-160H180v160Zm440 0h160v-160H620v160Z\"/>\n",
       "  </svg>\n",
       "    </button>\n",
       "\n",
       "  <style>\n",
       "    .colab-df-container {\n",
       "      display:flex;\n",
       "      gap: 12px;\n",
       "    }\n",
       "\n",
       "    .colab-df-convert {\n",
       "      background-color: #E8F0FE;\n",
       "      border: none;\n",
       "      border-radius: 50%;\n",
       "      cursor: pointer;\n",
       "      display: none;\n",
       "      fill: #1967D2;\n",
       "      height: 32px;\n",
       "      padding: 0 0 0 0;\n",
       "      width: 32px;\n",
       "    }\n",
       "\n",
       "    .colab-df-convert:hover {\n",
       "      background-color: #E2EBFA;\n",
       "      box-shadow: 0px 1px 2px rgba(60, 64, 67, 0.3), 0px 1px 3px 1px rgba(60, 64, 67, 0.15);\n",
       "      fill: #174EA6;\n",
       "    }\n",
       "\n",
       "    .colab-df-buttons div {\n",
       "      margin-bottom: 4px;\n",
       "    }\n",
       "\n",
       "    [theme=dark] .colab-df-convert {\n",
       "      background-color: #3B4455;\n",
       "      fill: #D2E3FC;\n",
       "    }\n",
       "\n",
       "    [theme=dark] .colab-df-convert:hover {\n",
       "      background-color: #434B5C;\n",
       "      box-shadow: 0px 1px 3px 1px rgba(0, 0, 0, 0.15);\n",
       "      filter: drop-shadow(0px 1px 2px rgba(0, 0, 0, 0.3));\n",
       "      fill: #FFFFFF;\n",
       "    }\n",
       "  </style>\n",
       "\n",
       "    <script>\n",
       "      const buttonEl =\n",
       "        document.querySelector('#df-ebe299f8-6f6d-4792-8e76-5f0bbb2187ce button.colab-df-convert');\n",
       "      buttonEl.style.display =\n",
       "        google.colab.kernel.accessAllowed ? 'block' : 'none';\n",
       "\n",
       "      async function convertToInteractive(key) {\n",
       "        const element = document.querySelector('#df-ebe299f8-6f6d-4792-8e76-5f0bbb2187ce');\n",
       "        const dataTable =\n",
       "          await google.colab.kernel.invokeFunction('convertToInteractive',\n",
       "                                                    [key], {});\n",
       "        if (!dataTable) return;\n",
       "\n",
       "        const docLinkHtml = 'Like what you see? Visit the ' +\n",
       "          '<a target=\"_blank\" href=https://colab.research.google.com/notebooks/data_table.ipynb>data table notebook</a>'\n",
       "          + ' to learn more about interactive tables.';\n",
       "        element.innerHTML = '';\n",
       "        dataTable['output_type'] = 'display_data';\n",
       "        await google.colab.output.renderOutput(dataTable, element);\n",
       "        const docLink = document.createElement('div');\n",
       "        docLink.innerHTML = docLinkHtml;\n",
       "        element.appendChild(docLink);\n",
       "      }\n",
       "    </script>\n",
       "  </div>\n",
       "\n",
       "\n",
       "<div id=\"df-824b7854-735d-47a7-9830-b291874c6888\">\n",
       "  <button class=\"colab-df-quickchart\" onclick=\"quickchart('df-824b7854-735d-47a7-9830-b291874c6888')\"\n",
       "            title=\"Suggest charts.\"\n",
       "            style=\"display:none;\">\n",
       "\n",
       "<svg xmlns=\"http://www.w3.org/2000/svg\" height=\"24px\"viewBox=\"0 0 24 24\"\n",
       "     width=\"24px\">\n",
       "    <g>\n",
       "        <path d=\"M19 3H5c-1.1 0-2 .9-2 2v14c0 1.1.9 2 2 2h14c1.1 0 2-.9 2-2V5c0-1.1-.9-2-2-2zM9 17H7v-7h2v7zm4 0h-2V7h2v10zm4 0h-2v-4h2v4z\"/>\n",
       "    </g>\n",
       "</svg>\n",
       "  </button>\n",
       "\n",
       "<style>\n",
       "  .colab-df-quickchart {\n",
       "      --bg-color: #E8F0FE;\n",
       "      --fill-color: #1967D2;\n",
       "      --hover-bg-color: #E2EBFA;\n",
       "      --hover-fill-color: #174EA6;\n",
       "      --disabled-fill-color: #AAA;\n",
       "      --disabled-bg-color: #DDD;\n",
       "  }\n",
       "\n",
       "  [theme=dark] .colab-df-quickchart {\n",
       "      --bg-color: #3B4455;\n",
       "      --fill-color: #D2E3FC;\n",
       "      --hover-bg-color: #434B5C;\n",
       "      --hover-fill-color: #FFFFFF;\n",
       "      --disabled-bg-color: #3B4455;\n",
       "      --disabled-fill-color: #666;\n",
       "  }\n",
       "\n",
       "  .colab-df-quickchart {\n",
       "    background-color: var(--bg-color);\n",
       "    border: none;\n",
       "    border-radius: 50%;\n",
       "    cursor: pointer;\n",
       "    display: none;\n",
       "    fill: var(--fill-color);\n",
       "    height: 32px;\n",
       "    padding: 0;\n",
       "    width: 32px;\n",
       "  }\n",
       "\n",
       "  .colab-df-quickchart:hover {\n",
       "    background-color: var(--hover-bg-color);\n",
       "    box-shadow: 0 1px 2px rgba(60, 64, 67, 0.3), 0 1px 3px 1px rgba(60, 64, 67, 0.15);\n",
       "    fill: var(--button-hover-fill-color);\n",
       "  }\n",
       "\n",
       "  .colab-df-quickchart-complete:disabled,\n",
       "  .colab-df-quickchart-complete:disabled:hover {\n",
       "    background-color: var(--disabled-bg-color);\n",
       "    fill: var(--disabled-fill-color);\n",
       "    box-shadow: none;\n",
       "  }\n",
       "\n",
       "  .colab-df-spinner {\n",
       "    border: 2px solid var(--fill-color);\n",
       "    border-color: transparent;\n",
       "    border-bottom-color: var(--fill-color);\n",
       "    animation:\n",
       "      spin 1s steps(1) infinite;\n",
       "  }\n",
       "\n",
       "  @keyframes spin {\n",
       "    0% {\n",
       "      border-color: transparent;\n",
       "      border-bottom-color: var(--fill-color);\n",
       "      border-left-color: var(--fill-color);\n",
       "    }\n",
       "    20% {\n",
       "      border-color: transparent;\n",
       "      border-left-color: var(--fill-color);\n",
       "      border-top-color: var(--fill-color);\n",
       "    }\n",
       "    30% {\n",
       "      border-color: transparent;\n",
       "      border-left-color: var(--fill-color);\n",
       "      border-top-color: var(--fill-color);\n",
       "      border-right-color: var(--fill-color);\n",
       "    }\n",
       "    40% {\n",
       "      border-color: transparent;\n",
       "      border-right-color: var(--fill-color);\n",
       "      border-top-color: var(--fill-color);\n",
       "    }\n",
       "    60% {\n",
       "      border-color: transparent;\n",
       "      border-right-color: var(--fill-color);\n",
       "    }\n",
       "    80% {\n",
       "      border-color: transparent;\n",
       "      border-right-color: var(--fill-color);\n",
       "      border-bottom-color: var(--fill-color);\n",
       "    }\n",
       "    90% {\n",
       "      border-color: transparent;\n",
       "      border-bottom-color: var(--fill-color);\n",
       "    }\n",
       "  }\n",
       "</style>\n",
       "\n",
       "  <script>\n",
       "    async function quickchart(key) {\n",
       "      const quickchartButtonEl =\n",
       "        document.querySelector('#' + key + ' button');\n",
       "      quickchartButtonEl.disabled = true;  // To prevent multiple clicks.\n",
       "      quickchartButtonEl.classList.add('colab-df-spinner');\n",
       "      try {\n",
       "        const charts = await google.colab.kernel.invokeFunction(\n",
       "            'suggestCharts', [key], {});\n",
       "      } catch (error) {\n",
       "        console.error('Error during call to suggestCharts:', error);\n",
       "      }\n",
       "      quickchartButtonEl.classList.remove('colab-df-spinner');\n",
       "      quickchartButtonEl.classList.add('colab-df-quickchart-complete');\n",
       "    }\n",
       "    (() => {\n",
       "      let quickchartButtonEl =\n",
       "        document.querySelector('#df-824b7854-735d-47a7-9830-b291874c6888 button');\n",
       "      quickchartButtonEl.style.display =\n",
       "        google.colab.kernel.accessAllowed ? 'block' : 'none';\n",
       "    })();\n",
       "  </script>\n",
       "</div>\n",
       "    </div>\n",
       "  </div>\n"
      ],
      "text/plain": [
       "         step     amount  newbalanceOrig  isFraud  isFlaggedFraud  \\\n",
       "0           1  -0.332932        1.111175        0               0   \n",
       "1           1  -0.373762        0.134375        0               0   \n",
       "2           1  -0.382380        0.000000        1               0   \n",
       "3           1  -0.382380        0.000000        1               0   \n",
       "4           1  -0.323571        0.207169        0               0   \n",
       "...       ...        ...             ...      ...             ...   \n",
       "6362615   743   1.355693        0.000000        1               0   \n",
       "6362616   743  31.927899        0.000000        1               0   \n",
       "6362617   743  31.927899        0.000000        1               0   \n",
       "6362618   743   3.968274        0.000000        1               0   \n",
       "6362619   743   3.968274        0.000000        1               0   \n",
       "\n",
       "         type_CASH_OUT  type_DEBIT  type_PAYMENT  type_TRANSFER  \\\n",
       "0                    0           0             1              0   \n",
       "1                    0           0             1              0   \n",
       "2                    0           0             0              1   \n",
       "3                    1           0             0              0   \n",
       "4                    0           0             1              0   \n",
       "...                ...         ...           ...            ...   \n",
       "6362615              1           0             0              0   \n",
       "6362616              0           0             0              1   \n",
       "6362617              1           0             0              0   \n",
       "6362618              0           0             0              1   \n",
       "6362619              1           0             0              0   \n",
       "\n",
       "         nameDesttype_M  DestBalance_Change  \n",
       "0                     1            0.000000  \n",
       "1                     1            0.000000  \n",
       "2                     0            0.000000  \n",
       "3                     0           -0.142061  \n",
       "4                     1            0.000000  \n",
       "...                 ...                 ...  \n",
       "6362615               0            2.278134  \n",
       "6362616               0            0.000000  \n",
       "6362617               0           42.328502  \n",
       "6362618               0            0.000000  \n",
       "6362619               0            5.700681  \n",
       "\n",
       "[6362620 rows x 11 columns]"
      ]
     },
     "execution_count": 12,
     "metadata": {},
     "output_type": "execute_result"
    }
   ],
   "source": [
    "sc = RobustScaler(with_centering=True, with_scaling=True, quantile_range=(25.0, 75.0), copy=True)\n",
    "data =['amount','DestBalance_Change','newbalanceOrig']\n",
    "df1[data] = sc.fit_transform(df1[data])\n",
    "df1"
   ]
  },
  {
   "cell_type": "markdown",
   "id": "wNB2VMhEkw61",
   "metadata": {
    "id": "wNB2VMhEkw61"
   },
   "source": [
    "## Using Robust scaler serves us multiple purposes by standardising our data and also makes the data less sensitive to outliers so we dont have to use the z score technique"
   ]
  },
  {
   "cell_type": "code",
   "execution_count": 13,
   "id": "19115144",
   "metadata": {
    "id": "19115144"
   },
   "outputs": [],
   "source": [
    "df1['Fraud'] = df1['isFraud']\n",
    "df1.drop(columns=['isFraud'], inplace=True)"
   ]
  },
  {
   "cell_type": "code",
   "execution_count": 14,
   "id": "9a4ad755",
   "metadata": {
    "colab": {
     "base_uri": "https://localhost:8080/"
    },
    "id": "9a4ad755",
    "outputId": "c7cb48a0-4150-4810-8798-2b6b45cd38c1"
   },
   "outputs": [
    {
     "name": "stderr",
     "output_type": "stream",
     "text": [
      "/usr/local/lib/python3.10/dist-packages/statsmodels/stats/outliers_influence.py:198: RuntimeWarning: divide by zero encountered in double_scalars\n",
      "  vif = 1. / (1. - r_squared_i)\n"
     ]
    },
    {
     "name": "stdout",
     "output_type": "stream",
     "text": [
      "VIF:\n",
      "              Feature       VIF\n",
      "0                step  2.779888\n",
      "1              amount  3.982403\n",
      "2      newbalanceOrig  1.155875\n",
      "3      isFlaggedFraud  1.000566\n",
      "4       type_CASH_OUT  1.750768\n",
      "5          type_DEBIT  1.015123\n",
      "6        type_PAYMENT       inf\n",
      "7       type_TRANSFER  1.349593\n",
      "8      nameDesttype_M       inf\n",
      "9  DestBalance_Change  3.843211\n"
     ]
    }
   ],
   "source": [
    "X = df1.drop(columns='Fraud')\n",
    "vif = pd.DataFrame()\n",
    "vif[\"Feature\"] = X.columns\n",
    "vif[\"VIF\"] = [variance_inflation_factor(X.values, i) for i in range(X.shape[1])]\n",
    "\n",
    "print(\"VIF:\")\n",
    "print(vif)"
   ]
  },
  {
   "cell_type": "markdown",
   "id": "5cdc920e",
   "metadata": {
    "id": "5cdc920e"
   },
   "source": [
    "#### The new column and removal of unuseful columns has drastically reduced the multicollinearity of the variables."
   ]
  },
  {
   "cell_type": "code",
   "execution_count": 15,
   "id": "ddbdc3c7",
   "metadata": {
    "id": "ddbdc3c7"
   },
   "outputs": [],
   "source": [
    "x = df1.drop(columns='Fraud')\n",
    "y = df1.Fraud\n",
    "x_train,x_test,y_train,y_test = train_test_split(x,y,train_size=0.8,random_state=42)"
   ]
  },
  {
   "cell_type": "code",
   "execution_count": 16,
   "id": "BucWS5DL7IRl",
   "metadata": {
    "colab": {
     "base_uri": "https://localhost:8080/",
     "height": 1000
    },
    "id": "BucWS5DL7IRl",
    "outputId": "588ef58b-fb28-4efe-948e-0e2ae969fd64"
   },
   "outputs": [
    {
     "name": "stderr",
     "output_type": "stream",
     "text": [
      "/usr/local/lib/python3.10/dist-packages/xgboost/sklearn.py:835: UserWarning: `early_stopping_rounds` in `fit` method is deprecated for better compatibility with scikit-learn, use `early_stopping_rounds` in constructor or`set_params` instead.\n",
      "  warnings.warn(\n"
     ]
    },
    {
     "name": "stdout",
     "output_type": "stream",
     "text": [
      "[0]\tvalidation_0-auc:0.92090\n",
      "[1]\tvalidation_0-auc:0.92148\n",
      "[2]\tvalidation_0-auc:0.96670\n",
      "[3]\tvalidation_0-auc:0.96687\n",
      "[4]\tvalidation_0-auc:0.97028\n",
      "[5]\tvalidation_0-auc:0.97121\n",
      "[6]\tvalidation_0-auc:0.97149\n",
      "[7]\tvalidation_0-auc:0.97461\n",
      "[8]\tvalidation_0-auc:0.97468\n",
      "[9]\tvalidation_0-auc:0.97468\n",
      "[10]\tvalidation_0-auc:0.97472\n",
      "[11]\tvalidation_0-auc:0.97579\n",
      "[12]\tvalidation_0-auc:0.97523\n",
      "[13]\tvalidation_0-auc:0.97547\n",
      "[14]\tvalidation_0-auc:0.97558\n",
      "[15]\tvalidation_0-auc:0.97713\n",
      "[16]\tvalidation_0-auc:0.97720\n",
      "[17]\tvalidation_0-auc:0.97937\n",
      "[18]\tvalidation_0-auc:0.97943\n",
      "[19]\tvalidation_0-auc:0.97951\n",
      "[20]\tvalidation_0-auc:0.97953\n",
      "[21]\tvalidation_0-auc:0.97970\n",
      "[22]\tvalidation_0-auc:0.98027\n",
      "[23]\tvalidation_0-auc:0.98045\n",
      "[24]\tvalidation_0-auc:0.98083\n",
      "[25]\tvalidation_0-auc:0.98155\n",
      "[26]\tvalidation_0-auc:0.98165\n",
      "[27]\tvalidation_0-auc:0.98272\n",
      "[28]\tvalidation_0-auc:0.98266\n",
      "[29]\tvalidation_0-auc:0.98271\n",
      "[30]\tvalidation_0-auc:0.98281\n",
      "[31]\tvalidation_0-auc:0.98293\n",
      "[32]\tvalidation_0-auc:0.98293\n",
      "[33]\tvalidation_0-auc:0.98282\n",
      "[34]\tvalidation_0-auc:0.98312\n",
      "[35]\tvalidation_0-auc:0.98313\n",
      "[36]\tvalidation_0-auc:0.98355\n",
      "[37]\tvalidation_0-auc:0.98359\n",
      "[38]\tvalidation_0-auc:0.98442\n",
      "[39]\tvalidation_0-auc:0.98475\n",
      "[40]\tvalidation_0-auc:0.98511\n",
      "[41]\tvalidation_0-auc:0.98582\n",
      "[42]\tvalidation_0-auc:0.98573\n",
      "[43]\tvalidation_0-auc:0.98564\n",
      "[44]\tvalidation_0-auc:0.98566\n",
      "[45]\tvalidation_0-auc:0.98561\n",
      "[46]\tvalidation_0-auc:0.98596\n",
      "[47]\tvalidation_0-auc:0.98599\n",
      "[48]\tvalidation_0-auc:0.98602\n",
      "[49]\tvalidation_0-auc:0.98670\n",
      "[50]\tvalidation_0-auc:0.98700\n",
      "[51]\tvalidation_0-auc:0.98710\n",
      "[52]\tvalidation_0-auc:0.98709\n",
      "[53]\tvalidation_0-auc:0.98708\n",
      "[54]\tvalidation_0-auc:0.98710\n",
      "[55]\tvalidation_0-auc:0.98713\n",
      "[56]\tvalidation_0-auc:0.98712\n",
      "[57]\tvalidation_0-auc:0.98712\n",
      "[58]\tvalidation_0-auc:0.98713\n",
      "[59]\tvalidation_0-auc:0.98716\n",
      "[60]\tvalidation_0-auc:0.98726\n",
      "[61]\tvalidation_0-auc:0.98769\n",
      "[62]\tvalidation_0-auc:0.98769\n",
      "[63]\tvalidation_0-auc:0.98788\n",
      "[64]\tvalidation_0-auc:0.98802\n",
      "[65]\tvalidation_0-auc:0.98802\n",
      "[66]\tvalidation_0-auc:0.98806\n",
      "[67]\tvalidation_0-auc:0.98808\n",
      "[68]\tvalidation_0-auc:0.98809\n",
      "[69]\tvalidation_0-auc:0.98809\n",
      "[70]\tvalidation_0-auc:0.98810\n",
      "[71]\tvalidation_0-auc:0.98805\n",
      "[72]\tvalidation_0-auc:0.98805\n",
      "[73]\tvalidation_0-auc:0.98798\n",
      "[74]\tvalidation_0-auc:0.98799\n",
      "[75]\tvalidation_0-auc:0.98803\n",
      "[76]\tvalidation_0-auc:0.98802\n",
      "[77]\tvalidation_0-auc:0.98803\n",
      "[78]\tvalidation_0-auc:0.98800\n",
      "[79]\tvalidation_0-auc:0.98800\n"
     ]
    },
    {
     "data": {
      "text/html": [
       "<style>#sk-container-id-1 {color: black;background-color: white;}#sk-container-id-1 pre{padding: 0;}#sk-container-id-1 div.sk-toggleable {background-color: white;}#sk-container-id-1 label.sk-toggleable__label {cursor: pointer;display: block;width: 100%;margin-bottom: 0;padding: 0.3em;box-sizing: border-box;text-align: center;}#sk-container-id-1 label.sk-toggleable__label-arrow:before {content: \"▸\";float: left;margin-right: 0.25em;color: #696969;}#sk-container-id-1 label.sk-toggleable__label-arrow:hover:before {color: black;}#sk-container-id-1 div.sk-estimator:hover label.sk-toggleable__label-arrow:before {color: black;}#sk-container-id-1 div.sk-toggleable__content {max-height: 0;max-width: 0;overflow: hidden;text-align: left;background-color: #f0f8ff;}#sk-container-id-1 div.sk-toggleable__content pre {margin: 0.2em;color: black;border-radius: 0.25em;background-color: #f0f8ff;}#sk-container-id-1 input.sk-toggleable__control:checked~div.sk-toggleable__content {max-height: 200px;max-width: 100%;overflow: auto;}#sk-container-id-1 input.sk-toggleable__control:checked~label.sk-toggleable__label-arrow:before {content: \"▾\";}#sk-container-id-1 div.sk-estimator input.sk-toggleable__control:checked~label.sk-toggleable__label {background-color: #d4ebff;}#sk-container-id-1 div.sk-label input.sk-toggleable__control:checked~label.sk-toggleable__label {background-color: #d4ebff;}#sk-container-id-1 input.sk-hidden--visually {border: 0;clip: rect(1px 1px 1px 1px);clip: rect(1px, 1px, 1px, 1px);height: 1px;margin: -1px;overflow: hidden;padding: 0;position: absolute;width: 1px;}#sk-container-id-1 div.sk-estimator {font-family: monospace;background-color: #f0f8ff;border: 1px dotted black;border-radius: 0.25em;box-sizing: border-box;margin-bottom: 0.5em;}#sk-container-id-1 div.sk-estimator:hover {background-color: #d4ebff;}#sk-container-id-1 div.sk-parallel-item::after {content: \"\";width: 100%;border-bottom: 1px solid gray;flex-grow: 1;}#sk-container-id-1 div.sk-label:hover label.sk-toggleable__label {background-color: #d4ebff;}#sk-container-id-1 div.sk-serial::before {content: \"\";position: absolute;border-left: 1px solid gray;box-sizing: border-box;top: 0;bottom: 0;left: 50%;z-index: 0;}#sk-container-id-1 div.sk-serial {display: flex;flex-direction: column;align-items: center;background-color: white;padding-right: 0.2em;padding-left: 0.2em;position: relative;}#sk-container-id-1 div.sk-item {position: relative;z-index: 1;}#sk-container-id-1 div.sk-parallel {display: flex;align-items: stretch;justify-content: center;background-color: white;position: relative;}#sk-container-id-1 div.sk-item::before, #sk-container-id-1 div.sk-parallel-item::before {content: \"\";position: absolute;border-left: 1px solid gray;box-sizing: border-box;top: 0;bottom: 0;left: 50%;z-index: -1;}#sk-container-id-1 div.sk-parallel-item {display: flex;flex-direction: column;z-index: 1;position: relative;background-color: white;}#sk-container-id-1 div.sk-parallel-item:first-child::after {align-self: flex-end;width: 50%;}#sk-container-id-1 div.sk-parallel-item:last-child::after {align-self: flex-start;width: 50%;}#sk-container-id-1 div.sk-parallel-item:only-child::after {width: 0;}#sk-container-id-1 div.sk-dashed-wrapped {border: 1px dashed gray;margin: 0 0.4em 0.5em 0.4em;box-sizing: border-box;padding-bottom: 0.4em;background-color: white;}#sk-container-id-1 div.sk-label label {font-family: monospace;font-weight: bold;display: inline-block;line-height: 1.2em;}#sk-container-id-1 div.sk-label-container {text-align: center;}#sk-container-id-1 div.sk-container {/* jupyter's `normalize.less` sets `[hidden] { display: none; }` but bootstrap.min.css set `[hidden] { display: none !important; }` so we also need the `!important` here to be able to override the default hidden behavior on the sphinx rendered scikit-learn.org. See: https://github.com/scikit-learn/scikit-learn/issues/21755 */display: inline-block !important;position: relative;}#sk-container-id-1 div.sk-text-repr-fallback {display: none;}</style><div id=\"sk-container-id-1\" class=\"sk-top-container\"><div class=\"sk-text-repr-fallback\"><pre>XGBClassifier(base_score=None, booster=None, callbacks=None,\n",
       "              colsample_bylevel=None, colsample_bynode=None,\n",
       "              colsample_bytree=None, early_stopping_rounds=None,\n",
       "              enable_categorical=False, eta=0.3, eval_metric=&#x27;auc&#x27;,\n",
       "              feature_types=None, gamma=None, gpu_id=None, grow_policy=None,\n",
       "              importance_type=None, interaction_constraints=None,\n",
       "              learning_rate=None, max_bin=None, max_cat_threshold=None,\n",
       "              max_cat_to_onehot=None, max_delta_step=None, max_depth=None,\n",
       "              max_leaves=None, min_child_weight=None, missing=nan,\n",
       "              monotone_constraints=None, n_estimators=1000, n_jobs=None,\n",
       "              num_parallel_tree=None, predictor=None, ...)</pre><b>In a Jupyter environment, please rerun this cell to show the HTML representation or trust the notebook. <br />On GitHub, the HTML representation is unable to render, please try loading this page with nbviewer.org.</b></div><div class=\"sk-container\" hidden><div class=\"sk-item\"><div class=\"sk-estimator sk-toggleable\"><input class=\"sk-toggleable__control sk-hidden--visually\" id=\"sk-estimator-id-1\" type=\"checkbox\" checked><label for=\"sk-estimator-id-1\" class=\"sk-toggleable__label sk-toggleable__label-arrow\">XGBClassifier</label><div class=\"sk-toggleable__content\"><pre>XGBClassifier(base_score=None, booster=None, callbacks=None,\n",
       "              colsample_bylevel=None, colsample_bynode=None,\n",
       "              colsample_bytree=None, early_stopping_rounds=None,\n",
       "              enable_categorical=False, eta=0.3, eval_metric=&#x27;auc&#x27;,\n",
       "              feature_types=None, gamma=None, gpu_id=None, grow_policy=None,\n",
       "              importance_type=None, interaction_constraints=None,\n",
       "              learning_rate=None, max_bin=None, max_cat_threshold=None,\n",
       "              max_cat_to_onehot=None, max_delta_step=None, max_depth=None,\n",
       "              max_leaves=None, min_child_weight=None, missing=nan,\n",
       "              monotone_constraints=None, n_estimators=1000, n_jobs=None,\n",
       "              num_parallel_tree=None, predictor=None, ...)</pre></div></div></div></div></div>"
      ],
      "text/plain": [
       "XGBClassifier(base_score=None, booster=None, callbacks=None,\n",
       "              colsample_bylevel=None, colsample_bynode=None,\n",
       "              colsample_bytree=None, early_stopping_rounds=None,\n",
       "              enable_categorical=False, eta=0.3, eval_metric='auc',\n",
       "              feature_types=None, gamma=None, gpu_id=None, grow_policy=None,\n",
       "              importance_type=None, interaction_constraints=None,\n",
       "              learning_rate=None, max_bin=None, max_cat_threshold=None,\n",
       "              max_cat_to_onehot=None, max_delta_step=None, max_depth=None,\n",
       "              max_leaves=None, min_child_weight=None, missing=nan,\n",
       "              monotone_constraints=None, n_estimators=1000, n_jobs=None,\n",
       "              num_parallel_tree=None, predictor=None, ...)"
      ]
     },
     "execution_count": 16,
     "metadata": {},
     "output_type": "execute_result"
    }
   ],
   "source": [
    "model = XGBClassifier(\n",
    "    objective='binary:logistic',\n",
    "    eval_metric='auc',\n",
    "    max_depth=None,\n",
    "    eta=0.3,\n",
    "    n_estimators=1000,\n",
    ")\n",
    "\n",
    "model.fit(\n",
    "    x_train, y_train,\n",
    "    eval_set=[(x_test, y_test)],\n",
    "    early_stopping_rounds=10,\n",
    "    verbose=True\n",
    ")"
   ]
  },
  {
   "cell_type": "code",
   "execution_count": 17,
   "id": "uLQkmIrTse39",
   "metadata": {
    "id": "uLQkmIrTse39"
   },
   "outputs": [],
   "source": [
    "y_preds = model.predict(x_test)"
   ]
  },
  {
   "cell_type": "code",
   "execution_count": 18,
   "id": "b42jtOknsko6",
   "metadata": {
    "colab": {
     "base_uri": "https://localhost:8080/"
    },
    "id": "b42jtOknsko6",
    "outputId": "2d6bbec3-52ef-4733-c8cd-2e33faca1b4e"
   },
   "outputs": [
    {
     "name": "stdout",
     "output_type": "stream",
     "text": [
      "      Metric     Score\n",
      "0   Accuracy  0.999618\n",
      "1  Precision  0.974874\n",
      "2     Recall  0.718519\n",
      "3   F1 Score  0.827292\n"
     ]
    }
   ],
   "source": [
    "accuracy = accuracy_score(y_test, y_preds)\n",
    "precision = precision_score(y_test, y_preds)\n",
    "recall = recall_score(y_test, y_preds)\n",
    "f1 = f1_score(y_test, y_preds)\n",
    "\n",
    "metrics_df = pd.DataFrame({\n",
    "    'Metric': ['Accuracy', 'Precision', 'Recall', 'F1 Score'],\n",
    "    'Score': [accuracy, precision, recall, f1]\n",
    "})\n",
    "\n",
    "print(metrics_df)"
   ]
  },
  {
   "cell_type": "markdown",
   "id": "3e0a857d",
   "metadata": {
    "id": "Ipb6VyDEslPB"
   },
   "source": [
    "# EXPLANATIONS\n",
    "\n",
    "## Data cleaning including missing values, outliers, and multicollinearity:\n",
    "\n",
    "   ##### Missing values: No missing values have been found in the dataset. \n",
    "   ##### Outliers: The RobustScaler has been used to make the data less sensitive to outliers. Columns that might have multicollinearity have been identified but manipulated based on their theoretical importance.\n",
    "\n",
    "## Fraud detection model in elaboration:\n",
    "\n",
    "   ##### The fraud detection model used is an XGBoost classifier, a powerful ensemble machine learning algorithm. It has been trained as a binary classifier to distinguish between fraudulent (1) and non-fraudulent (0) transactions. The evaluation metric used is AUC (Area Under the ROC Curve) to assess its ability to distinguish between positive and negative cases. Early stopping has been implemented during training to prevent overfitting.\n",
    "\n",
    "## How did you select variables to be included in the model?:\n",
    "\n",
    "   1. Variables were selected based on their relevance to the fraud detection task. Transaction-related features like 'step' and 'amount' were included on the basis of correlation.\n",
    "   2. The 'type' of transaction was included as it can be a significant indicator.\n",
    "   3. Other engineered features like 'DestBalance_Change' were also included to capture potential patterns in the data.\n",
    "   4. Columns like 'nameOrig' and 'nameDest' were dropped as they didn't directly contribute to the classification task. Instead their types were taken and it was found that if nameDest was 'M' type then the transaction was less likely to be a fraudulent one.\n",
    "\n",
    "## Demonstrate the performance of the model by using the best set of tools:\n",
    "\n",
    "   ##### The model's performance has been assessed using various metrics, including accuracy, precision, recall, and F1 score.Based on these metrics, the model appears to have high accuracy, precision, and a reasonable F1 score, which suggests its effectiveness in identifying fraudulent transactions.\n",
    "\n",
    "## What are the key factors that predict fraudulent customer?:\n",
    "\n",
    "   #### Based on the model and feature analysis:\n",
    "   #### Transactions of type 'TRANSFER' and 'PAYMENT' are less likely to be fraudulent. Larger transaction amounts are more likely to be associated with fraudulent activity. The change in destination balance ('DestBalance_Change') is also an important feature in predicting fraud.\n",
    "\n",
    "## Do these factors make sense? If yes, How? If not, How not?:\n",
    "\n",
    "   #### Yes:\n",
    "   1. Fraudulent transactions often involve larger amounts to maximize the gain.\n",
    "   2. Transaction types like 'TRANSFER' and 'PAYMENT' might be less susceptible to fraud due to their nature.\n",
    "   3. The change in destination balance can be indicative of unusual transactions, potentially linked to fraudulent activity.\n",
    "\n",
    "## What kind of prevention should be adopted while the company updates its infrastructure?:\n",
    "\n",
    "   #### Prevention measures should include:\n",
    "1. Continuous monitoring and analysis of transaction data for anomalies.\n",
    "2. Implementing transaction limits and flagging suspicious transactions for manual review.\n",
    "3. Enhancing authentication and verification processes for high-risk transactions.\n",
    "4. Regularly updating and improving fraud detection models to adapt to new fraud patterns.\n",
    "5. Educating customers and employees about fraud risks and prevention.\n",
    "\n",
    "## Assuming these actions have been implemented, how would you determine if they work?:\n",
    "\n",
    "   #### The effectiveness of prevention measures can be assessed by monitoring key performance metrics:\n",
    "1. Reduction in the number of confirmed fraudulent transactions.\n",
    "2. Reduction in false positives.\n",
    "3. Monitoring the model's performance metrics over time.\n",
    "\n",
    "\n",
    "\n",
    "\n"
   ]
  },
  {
   "cell_type": "code",
   "execution_count": null,
   "id": "2549db5c",
   "metadata": {},
   "outputs": [],
   "source": []
  }
 ],
 "metadata": {
  "accelerator": "TPU",
  "colab": {
   "provenance": []
  },
  "kernelspec": {
   "display_name": "Python 3 (ipykernel)",
   "language": "python",
   "name": "python3"
  },
  "language_info": {
   "codemirror_mode": {
    "name": "ipython",
    "version": 3
   },
   "file_extension": ".py",
   "mimetype": "text/x-python",
   "name": "python",
   "nbconvert_exporter": "python",
   "pygments_lexer": "ipython3",
   "version": "3.9.13"
  }
 },
 "nbformat": 4,
 "nbformat_minor": 5
}
